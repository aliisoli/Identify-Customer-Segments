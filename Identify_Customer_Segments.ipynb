{
 "cells": [
  {
   "cell_type": "markdown",
   "metadata": {},
   "source": [
    "# Project: Identify Customer Segments\n",
    "\n",
    "In this project, you will apply unsupervised learning techniques to identify segments of the population that form the core customer base for a mail-order sales company in Germany. These segments can then be used to direct marketing campaigns towards audiences that will have the highest expected rate of returns. The data that you will use has been provided by our partners at Bertelsmann Arvato Analytics, and represents a real-life data science task.\n",
    "\n",
    "This notebook will help you complete this task by providing a framework within which you will perform your analysis steps. In each step of the project, you will see some text describing the subtask that you will perform, followed by one or more code cells for you to complete your work. **Feel free to add additional code and markdown cells as you go along so that you can explore everything in precise chunks.** The code cells provided in the base template will outline only the major tasks, and will usually not be enough to cover all of the minor tasks that comprise it.\n",
    "\n",
    "It should be noted that while there will be precise guidelines on how you should handle certain tasks in the project, there will also be places where an exact specification is not provided. **There will be times in the project where you will need to make and justify your own decisions on how to treat the data.** These are places where there may not be only one way to handle the data. In real-life tasks, there may be many valid ways to approach an analysis task. One of the most important things you can do is clearly document your approach so that other scientists can understand the decisions you've made.\n",
    "\n",
    "At the end of most sections, there will be a Markdown cell labeled **Discussion**. In these cells, you will report your findings for the completed section, as well as document the decisions that you made in your approach to each subtask. **Your project will be evaluated not just on the code used to complete the tasks outlined, but also your communication about your observations and conclusions at each stage.**"
   ]
  },
  {
   "cell_type": "code",
   "execution_count": 1,
   "metadata": {},
   "outputs": [],
   "source": [
    "# import libraries here; add more as necessary\n",
    "\n",
    "import numpy as np\n",
    "import pandas as pd\n",
    "import matplotlib.pyplot as plt\n",
    "import seaborn as sns\n",
    "from sklearn.cluster import KMeans\n",
    "import pprint\n",
    "import time\n",
    "from sklearn.preprocessing import StandardScaler\n",
    "from sklearn.decomposition import PCA    \n",
    "import operator\n",
    "from sklearn.preprocessing import LabelEncoder\n",
    "\n",
    "# magic word for producing visualizations in notebook\n",
    "%matplotlib inline"
   ]
  },
  {
   "cell_type": "markdown",
   "metadata": {},
   "source": [
    "### Step 0: Load the Data\n",
    "\n",
    "There are four files associated with this project (not including this one):\n",
    "\n",
    "- `Udacity_AZDIAS_Subset.csv`: Demographics data for the general population of Germany; 891211 persons (rows) x 85 features (columns).\n",
    "- `Udacity_CUSTOMERS_Subset.csv`: Demographics data for customers of a mail-order company; 191652 persons (rows) x 85 features (columns).\n",
    "- `Data_Dictionary.md`: Detailed information file about the features in the provided datasets.\n",
    "- `AZDIAS_Feature_Summary.csv`: Summary of feature attributes for demographics data; 85 features (rows) x 4 columns\n",
    "\n",
    "Each row of the demographics files represents a single person, but also includes information outside of individuals, including information about their household, building, and neighborhood. You will use this information to cluster the general population into groups with similar demographic properties. Then, you will see how the people in the customers dataset fit into those created clusters. The hope here is that certain clusters are over-represented in the customers data, as compared to the general population; those over-represented clusters will be assumed to be part of the core userbase. This information can then be used for further applications, such as targeting for a marketing campaign.\n",
    "\n",
    "To start off with, load in the demographics data for the general population into a pandas DataFrame, and do the same for the feature attributes summary. Note for all of the `.csv` data files in this project: they're semicolon (`;`) delimited, so you'll need an additional argument in your [`read_csv()`](https://pandas.pydata.org/pandas-docs/stable/generated/pandas.read_csv.html) call to read in the data properly. Also, considering the size of the main dataset, it may take some time for it to load completely.\n",
    "\n",
    "Once the dataset is loaded, it's recommended that you take a little bit of time just browsing the general structure of the dataset and feature summary file. You'll be getting deep into the innards of the cleaning in the first major step of the project, so gaining some general familiarity can help you get your bearings."
   ]
  },
  {
   "cell_type": "code",
   "execution_count": 2,
   "metadata": {},
   "outputs": [],
   "source": [
    "# Load in the general demographics data.\n",
    "azdias = pd.read_csv('Udacity_AZDIAS_Subset.csv', delimiter=';')\n",
    "\n",
    "\n",
    "# Load in the feature summary file.\n",
    "feat_info = pd.read_csv('AZDIAS_Feature_Summary.csv', delimiter=';')"
   ]
  },
  {
   "cell_type": "code",
   "execution_count": 3,
   "metadata": {},
   "outputs": [
    {
     "data": {
      "text/plain": [
       "4896838"
      ]
     },
     "execution_count": 3,
     "metadata": {},
     "output_type": "execute_result"
    }
   ],
   "source": [
    "# Get null counts in the original file\n",
    "original_missing = azdias.isnull().sum().sum()\n",
    "original_missing"
   ]
  },
  {
   "cell_type": "code",
   "execution_count": 4,
   "metadata": {},
   "outputs": [
    {
     "name": "stdout",
     "output_type": "stream",
     "text": [
      "(891221, 85)\n"
     ]
    }
   ],
   "source": [
    "# Check the structure of the data after it's loaded (e.g. print the number of\n",
    "# rows and columns, print the first few rows).\n",
    "print(azdias.shape)"
   ]
  },
  {
   "cell_type": "code",
   "execution_count": 5,
   "metadata": {},
   "outputs": [
    {
     "name": "stdout",
     "output_type": "stream",
     "text": [
      "(85, 4)\n"
     ]
    },
    {
     "data": {
      "text/html": [
       "<div>\n",
       "<style scoped>\n",
       "    .dataframe tbody tr th:only-of-type {\n",
       "        vertical-align: middle;\n",
       "    }\n",
       "\n",
       "    .dataframe tbody tr th {\n",
       "        vertical-align: top;\n",
       "    }\n",
       "\n",
       "    .dataframe thead th {\n",
       "        text-align: right;\n",
       "    }\n",
       "</style>\n",
       "<table border=\"1\" class=\"dataframe\">\n",
       "  <thead>\n",
       "    <tr style=\"text-align: right;\">\n",
       "      <th></th>\n",
       "      <th>attribute</th>\n",
       "      <th>information_level</th>\n",
       "      <th>type</th>\n",
       "      <th>missing_or_unknown</th>\n",
       "    </tr>\n",
       "  </thead>\n",
       "  <tbody>\n",
       "    <tr>\n",
       "      <th>0</th>\n",
       "      <td>AGER_TYP</td>\n",
       "      <td>person</td>\n",
       "      <td>categorical</td>\n",
       "      <td>[-1,0]</td>\n",
       "    </tr>\n",
       "    <tr>\n",
       "      <th>1</th>\n",
       "      <td>ALTERSKATEGORIE_GROB</td>\n",
       "      <td>person</td>\n",
       "      <td>ordinal</td>\n",
       "      <td>[-1,0,9]</td>\n",
       "    </tr>\n",
       "    <tr>\n",
       "      <th>2</th>\n",
       "      <td>ANREDE_KZ</td>\n",
       "      <td>person</td>\n",
       "      <td>categorical</td>\n",
       "      <td>[-1,0]</td>\n",
       "    </tr>\n",
       "    <tr>\n",
       "      <th>3</th>\n",
       "      <td>CJT_GESAMTTYP</td>\n",
       "      <td>person</td>\n",
       "      <td>categorical</td>\n",
       "      <td>[0]</td>\n",
       "    </tr>\n",
       "    <tr>\n",
       "      <th>4</th>\n",
       "      <td>FINANZ_MINIMALIST</td>\n",
       "      <td>person</td>\n",
       "      <td>ordinal</td>\n",
       "      <td>[-1]</td>\n",
       "    </tr>\n",
       "  </tbody>\n",
       "</table>\n",
       "</div>"
      ],
      "text/plain": [
       "              attribute information_level         type missing_or_unknown\n",
       "0              AGER_TYP            person  categorical             [-1,0]\n",
       "1  ALTERSKATEGORIE_GROB            person      ordinal           [-1,0,9]\n",
       "2             ANREDE_KZ            person  categorical             [-1,0]\n",
       "3         CJT_GESAMTTYP            person  categorical                [0]\n",
       "4     FINANZ_MINIMALIST            person      ordinal               [-1]"
      ]
     },
     "execution_count": 5,
     "metadata": {},
     "output_type": "execute_result"
    }
   ],
   "source": [
    "print(feat_info.shape)\n",
    "feat_info.head(5)"
   ]
  },
  {
   "cell_type": "markdown",
   "metadata": {},
   "source": [
    "> **Tip**: Add additional cells to keep everything in reasonably-sized chunks! Keyboard shortcut `esc --> a` (press escape to enter command mode, then press the 'A' key) adds a new cell before the active cell, and `esc --> b` adds a new cell after the active cell. If you need to convert an active cell to a markdown cell, use `esc --> m` and to convert to a code cell, use `esc --> y`. \n",
    "\n",
    "## Step 1: Preprocessing\n",
    "\n",
    "### Step 1.1: Assess Missing Data\n",
    "\n",
    "The feature summary file contains a summary of properties for each demographics data column. You will use this file to help you make cleaning decisions during this stage of the project. First of all, you should assess the demographics data in terms of missing data. Pay attention to the following points as you perform your analysis, and take notes on what you observe. Make sure that you fill in the **Discussion** cell with your findings and decisions at the end of each step that has one!\n",
    "\n",
    "#### Step 1.1.1: Convert Missing Value Codes to NaNs\n",
    "The fourth column of the feature attributes summary (loaded in above as `feat_info`) documents the codes from the data dictionary that indicate missing or unknown data. While the file encodes this as a list (e.g. `[-1,0]`), this will get read in as a string object. You'll need to do a little bit of parsing to make use of it to identify and clean the data. Convert data that matches a 'missing' or 'unknown' value code into a numpy NaN value. You might want to see how much data takes on a 'missing' or 'unknown' code, and how much data is naturally missing, as a point of interest.\n",
    "\n",
    "**As one more reminder, you are encouraged to add additional cells to break up your analysis into manageable chunks.**"
   ]
  },
  {
   "cell_type": "code",
   "execution_count": 6,
   "metadata": {},
   "outputs": [
    {
     "name": "stdout",
     "output_type": "stream",
     "text": [
      "object\n"
     ]
    }
   ],
   "source": [
    "# Identify missing or unknown data values and convert them to NaNs.\n",
    "print(feat_info['missing_or_unknown'].dtype)"
   ]
  },
  {
   "cell_type": "code",
   "execution_count": 7,
   "metadata": {},
   "outputs": [],
   "source": [
    "# Identify missing or unknown data values and convert them to NaNs.\n",
    "for col in range(azdias.shape[1]):\n",
    "    col_name=azdias.columns[col]\n",
    "    na_list=feat_info.iloc[col,3]\n",
    "    na_list=na_list.replace('[', '')\n",
    "    na_list=na_list.replace(']', '')\n",
    "    na_list=na_list.split(',')\n",
    "    if na_list == ['']:\n",
    "        continue\n",
    "    else:\n",
    "        for na_code in na_list:\n",
    "            if azdias[col_name].dtype =='object':\n",
    "                azdias.loc[azdias[col_name]==na_code,col_name]=np.nan \n",
    "            else:   \n",
    "                na_code=int(na_code)\n",
    "                azdias.loc[azdias[col_name]==na_code,col_name]=np.nan"
   ]
  },
  {
   "cell_type": "code",
   "execution_count": 8,
   "metadata": {},
   "outputs": [
    {
     "name": "stdout",
     "output_type": "stream",
     "text": [
      "Total number of missing values is 8373929\n"
     ]
    }
   ],
   "source": [
    "print('Total number of missing values is {}'.format(azdias.isnull().sum().sum()))"
   ]
  },
  {
   "cell_type": "markdown",
   "metadata": {},
   "source": [
    "#### Step 1.1.2: Assess Missing Data in Each Column\n",
    "\n",
    "How much missing data is present in each column? There are a few columns that are outliers in terms of the proportion of values that are missing. You will want to use matplotlib's [`hist()`](https://matplotlib.org/api/_as_gen/matplotlib.pyplot.hist.html) function to visualize the distribution of missing value counts to find these columns. Identify and document these columns. While some of these columns might have justifications for keeping or re-encoding the data, for this project you should just remove them from the dataframe. (Feel free to make remarks about these outlier columns in the discussion, however!)\n",
    "\n",
    "For the remaining features, are there any patterns in which columns have, or share, missing data?"
   ]
  },
  {
   "cell_type": "code",
   "execution_count": 9,
   "metadata": {},
   "outputs": [],
   "source": [
    "# Perform an assessment of how much missing data there is in each column of the\n",
    "# dataset.\n",
    "\n",
    "percent_missing_percolumn = 100*azdias.isnull().sum()/azdias.shape[0]\n",
    "\n",
    "percent_missing_percolumn = percent_missing_percolumn.sort_values(ascending=False)\n"
   ]
  },
  {
   "cell_type": "code",
   "execution_count": 10,
   "metadata": {},
   "outputs": [
    {
     "name": "stdout",
     "output_type": "stream",
     "text": [
      "TITEL_KZ        99.757636\n",
      "AGER_TYP        76.955435\n",
      "KK_KUNDENTYP    65.596749\n",
      "KBA05_BAUMAX    53.468668\n",
      "GEBURTSJAHR     44.020282\n",
      "dtype: float64\n"
     ]
    }
   ],
   "source": [
    "print(percent_missing_percolumn.head(5))"
   ]
  },
  {
   "cell_type": "code",
   "execution_count": 11,
   "metadata": {},
   "outputs": [
    {
     "data": {
      "image/png": "[encoded data removed]",
      "text/plain": [
       "<matplotlib.figure.Figure at 0x7f9d05f48320>"
      ]
     },
     "metadata": {
      "needs_background": "light"
     },
     "output_type": "display_data"
    }
   ],
   "source": [
    "#Plot distribution of missing value counts\n",
    "plt.hist(percent_missing_percolumn, bins=20, facecolor='g', alpha=0.75)\n",
    "\n",
    "\n",
    "plt.xlabel('Percentage of missing value (%)')\n",
    "plt.ylabel('Counts')\n",
    "plt.title('Histogram of missing value counts')\n",
    "plt.grid(True)\n",
    "plt.show()"
   ]
  },
  {
   "cell_type": "code",
   "execution_count": 12,
   "metadata": {},
   "outputs": [],
   "source": [
    "# Remove the outlier columns from the dataset. (You'll perform other data\n",
    "# engineering tasks such as re-encoding and imputation later.)\n",
    "percentage_threshold = 20\n",
    "\n",
    "drop_these_columns = percent_missing_percolumn[percent_missing_percolumn>percentage_threshold]"
   ]
  },
  {
   "cell_type": "code",
   "execution_count": 13,
   "metadata": {},
   "outputs": [],
   "source": [
    "#for feature in drop_these_columns.index.values:\n",
    "#    azdias = azdias.drop(feature, axis=1)\n",
    "    \n",
    "# this operation could be vectorized as well:\n",
    "azdias = azdias.drop(drop_these_columns.index.values, axis=1)"
   ]
  },
  {
   "cell_type": "code",
   "execution_count": 14,
   "metadata": {},
   "outputs": [
    {
     "name": "stdout",
     "output_type": "stream",
     "text": [
      "['TITEL_KZ' 'AGER_TYP' 'KK_KUNDENTYP' 'KBA05_BAUMAX' 'GEBURTSJAHR'\n",
      " 'ALTER_HH']\n"
     ]
    }
   ],
   "source": [
    "# these columns have been dropped:\n",
    "print(drop_these_columns.index.values)"
   ]
  },
  {
   "cell_type": "code",
   "execution_count": 15,
   "metadata": {},
   "outputs": [
    {
     "data": {
      "text/plain": [
       "Index(['ALTERSKATEGORIE_GROB', 'ANREDE_KZ', 'CJT_GESAMTTYP',\n",
       "       'FINANZ_MINIMALIST', 'FINANZ_SPARER', 'FINANZ_VORSORGER',\n",
       "       'FINANZ_ANLEGER', 'FINANZ_UNAUFFAELLIGER', 'FINANZ_HAUSBAUER',\n",
       "       'FINANZTYP', 'GFK_URLAUBERTYP', 'GREEN_AVANTGARDE', 'HEALTH_TYP',\n",
       "       'LP_LEBENSPHASE_FEIN', 'LP_LEBENSPHASE_GROB', 'LP_FAMILIE_FEIN',\n",
       "       'LP_FAMILIE_GROB', 'LP_STATUS_FEIN', 'LP_STATUS_GROB',\n",
       "       'NATIONALITAET_KZ', 'PRAEGENDE_JUGENDJAHRE', 'RETOURTYP_BK_S',\n",
       "       'SEMIO_SOZ', 'SEMIO_FAM', 'SEMIO_REL', 'SEMIO_MAT', 'SEMIO_VERT',\n",
       "       'SEMIO_LUST', 'SEMIO_ERL', 'SEMIO_KULT', 'SEMIO_RAT', 'SEMIO_KRIT',\n",
       "       'SEMIO_DOM', 'SEMIO_KAEM', 'SEMIO_PFLICHT', 'SEMIO_TRADV',\n",
       "       'SHOPPER_TYP', 'SOHO_KZ', 'VERS_TYP', 'ZABEOTYP', 'ANZ_PERSONEN',\n",
       "       'ANZ_TITEL', 'HH_EINKOMMEN_SCORE', 'W_KEIT_KIND_HH', 'WOHNDAUER_2008',\n",
       "       'ANZ_HAUSHALTE_AKTIV', 'ANZ_HH_TITEL', 'GEBAEUDETYP', 'KONSUMNAEHE',\n",
       "       'MIN_GEBAEUDEJAHR', 'OST_WEST_KZ', 'WOHNLAGE', 'CAMEO_DEUG_2015',\n",
       "       'CAMEO_DEU_2015', 'CAMEO_INTL_2015', 'KBA05_ANTG1', 'KBA05_ANTG2',\n",
       "       'KBA05_ANTG3', 'KBA05_ANTG4', 'KBA05_GBZ', 'BALLRAUM', 'EWDICHTE',\n",
       "       'INNENSTADT', 'GEBAEUDETYP_RASTER', 'KKK', 'MOBI_REGIO',\n",
       "       'ONLINE_AFFINITAET', 'REGIOTYP', 'KBA13_ANZAHL_PKW', 'PLZ8_ANTG1',\n",
       "       'PLZ8_ANTG2', 'PLZ8_ANTG3', 'PLZ8_ANTG4', 'PLZ8_BAUMAX', 'PLZ8_HHZ',\n",
       "       'PLZ8_GBZ', 'ARBEIT', 'ORTSGR_KLS9', 'RELAT_AB'],\n",
       "      dtype='object')"
      ]
     },
     "execution_count": 15,
     "metadata": {},
     "output_type": "execute_result"
    }
   ],
   "source": [
    "azdias.columns"
   ]
  },
  {
   "cell_type": "code",
   "execution_count": 16,
   "metadata": {},
   "outputs": [],
   "source": [
    "import warnings\n",
    "warnings.filterwarnings('ignore')"
   ]
  },
  {
   "cell_type": "markdown",
   "metadata": {},
   "source": [
    "#### Discussion 1.1.2: Assess Missing Data in Each Column\n",
    "\n",
    "Author:\n",
    "As it can be observed from the histogram, most of the features have less than 20% missing data, so the columns with more than 20% missing data are omitted from the dataset. These are the removed features: ['TITEL_KZ' 'AGER_TYP' 'KK_KUNDENTYP' 'KBA05_BAUMAX' 'GEBURTSJAHR'\n",
    " 'ALTER_HH']"
   ]
  },
  {
   "cell_type": "markdown",
   "metadata": {},
   "source": [
    "#### Step 1.1.3: Assess Missing Data in Each Row\n",
    "\n",
    "Now, you'll perform a similar assessment for the rows of the dataset. How much data is missing in each row? As with the columns, you should see some groups of points that have a very different numbers of missing values. Divide the data into two subsets: one for data points that are above some threshold for missing values, and a second subset for points below that threshold.\n",
    "\n",
    "In order to know what to do with the outlier rows, we should see if the distribution of data values on columns that are not missing data (or are missing very little data) are similar or different between the two groups. Select at least five of these columns and compare the distribution of values.\n",
    "- You can use seaborn's [`countplot()`](https://seaborn.pydata.org/generated/seaborn.countplot.html) function to create a bar chart of code frequencies and matplotlib's [`subplot()`](https://matplotlib.org/api/_as_gen/matplotlib.pyplot.subplot.html) function to put bar charts for the two subplots side by side.\n",
    "- To reduce repeated code, you might want to write a function that can perform this comparison, taking as one of its arguments a column to be compared.\n",
    "\n",
    "Depending on what you observe in your comparison, this will have implications on how you approach your conclusions later in the analysis. If the distributions of non-missing features look similar between the data with many missing values and the data with few or no missing values, then we could argue that simply dropping those points from the analysis won't present a major issue. On the other hand, if the data with many missing values looks very different from the data with few or no missing values, then we should make a note on those data as special. We'll revisit these data later on. **Either way, you should continue your analysis for now using just the subset of the data with few or no missing values.**"
   ]
  },
  {
   "cell_type": "code",
   "execution_count": 17,
   "metadata": {},
   "outputs": [
    {
     "data": {
      "image/png": "[encoded data removed]",
      "text/plain": [
       "<matplotlib.figure.Figure at 0x7f9d03c4a9e8>"
      ]
     },
     "metadata": {
      "needs_background": "light"
     },
     "output_type": "display_data"
    }
   ],
   "source": [
    "# How much data is missing in each row of the dataset?\n",
    "missing_per_row = azdias.isnull().sum(axis=1)\n",
    "plt.hist(missing_per_row, bins=20)\n",
    "plt.ylabel('Rows Count')\n",
    "plt.xlabel('Missing Values Count')\n",
    "plt.show()\n"
   ]
  },
  {
   "cell_type": "code",
   "execution_count": 18,
   "metadata": {},
   "outputs": [
    {
     "name": "stdout",
     "output_type": "stream",
     "text": [
      "Index(['ALTERSKATEGORIE_GROB', 'ANREDE_KZ', 'CJT_GESAMTTYP',\n",
      "       'FINANZ_MINIMALIST', 'FINANZ_SPARER', 'FINANZ_VORSORGER',\n",
      "       'FINANZ_ANLEGER', 'FINANZ_UNAUFFAELLIGER', 'FINANZ_HAUSBAUER',\n",
      "       'FINANZTYP', 'GFK_URLAUBERTYP', 'GREEN_AVANTGARDE', 'HEALTH_TYP',\n",
      "       'LP_LEBENSPHASE_FEIN', 'LP_LEBENSPHASE_GROB', 'LP_FAMILIE_FEIN',\n",
      "       'LP_FAMILIE_GROB', 'LP_STATUS_FEIN', 'LP_STATUS_GROB',\n",
      "       'NATIONALITAET_KZ', 'PRAEGENDE_JUGENDJAHRE', 'RETOURTYP_BK_S',\n",
      "       'SEMIO_SOZ', 'SEMIO_FAM', 'SEMIO_REL', 'SEMIO_MAT', 'SEMIO_VERT',\n",
      "       'SEMIO_LUST', 'SEMIO_ERL', 'SEMIO_KULT', 'SEMIO_RAT', 'SEMIO_KRIT',\n",
      "       'SEMIO_DOM', 'SEMIO_KAEM', 'SEMIO_PFLICHT', 'SEMIO_TRADV',\n",
      "       'SHOPPER_TYP', 'SOHO_KZ', 'VERS_TYP', 'ZABEOTYP', 'ANZ_PERSONEN',\n",
      "       'ANZ_TITEL', 'HH_EINKOMMEN_SCORE', 'W_KEIT_KIND_HH', 'WOHNDAUER_2008',\n",
      "       'ANZ_HAUSHALTE_AKTIV', 'ANZ_HH_TITEL', 'GEBAEUDETYP', 'KONSUMNAEHE',\n",
      "       'MIN_GEBAEUDEJAHR', 'OST_WEST_KZ', 'WOHNLAGE', 'CAMEO_DEUG_2015',\n",
      "       'CAMEO_DEU_2015', 'CAMEO_INTL_2015', 'KBA05_ANTG1', 'KBA05_ANTG2',\n",
      "       'KBA05_ANTG3', 'KBA05_ANTG4', 'KBA05_GBZ', 'BALLRAUM', 'EWDICHTE',\n",
      "       'INNENSTADT', 'GEBAEUDETYP_RASTER', 'KKK', 'MOBI_REGIO',\n",
      "       'ONLINE_AFFINITAET', 'REGIOTYP', 'KBA13_ANZAHL_PKW', 'PLZ8_ANTG1',\n",
      "       'PLZ8_ANTG2', 'PLZ8_ANTG3', 'PLZ8_ANTG4', 'PLZ8_BAUMAX', 'PLZ8_HHZ',\n",
      "       'PLZ8_GBZ', 'ARBEIT', 'ORTSGR_KLS9', 'RELAT_AB'],\n",
      "      dtype='object')\n"
     ]
    }
   ],
   "source": [
    "# Write code to divide the data into two subsets based on the number of missing\n",
    "# values in each row.\n",
    "low_missing_rows = azdias[azdias.isnull().sum(axis=1) <10]\n",
    "high_missing_rows = azdias[azdias.isnull().sum(axis=1) >=10]\n",
    "print(low_missing_rows.columns)"
   ]
  },
  {
   "cell_type": "code",
   "execution_count": 19,
   "metadata": {},
   "outputs": [
    {
     "data": {
      "text/plain": [
       "array(['CJT_GESAMTTYP', 'RETOURTYP_BK_S', 'ONLINE_AFFINITAET',\n",
       "       'LP_STATUS_FEIN', 'LP_STATUS_GROB', 'GFK_URLAUBERTYP',\n",
       "       'ALTERSKATEGORIE_GROB', 'FINANZTYP', 'GREEN_AVANTGARDE',\n",
       "       'FINANZ_HAUSBAUER', 'FINANZ_UNAUFFAELLIGER', 'FINANZ_ANLEGER',\n",
       "       'FINANZ_SPARER', 'FINANZ_MINIMALIST', 'ANREDE_KZ',\n",
       "       'FINANZ_VORSORGER', 'SEMIO_FAM', 'SEMIO_SOZ', 'SEMIO_REL',\n",
       "       'SEMIO_MAT', 'SEMIO_VERT', 'SEMIO_LUST', 'SEMIO_ERL', 'SEMIO_KULT',\n",
       "       'SEMIO_RAT', 'SEMIO_KRIT', 'SEMIO_DOM', 'SEMIO_KAEM',\n",
       "       'SEMIO_PFLICHT', 'SEMIO_TRADV', 'ZABEOTYP'], dtype=object)"
      ]
     },
     "execution_count": 19,
     "metadata": {},
     "output_type": "execute_result"
    }
   ],
   "source": [
    "# Compare the distribution of values for at least five columns where there are\n",
    "# no or few missing values, between the two subsets.\n",
    "low_missing_cols = percent_missing_percolumn[percent_missing_percolumn<1].index.values\n",
    "low_missing_cols"
   ]
  },
  {
   "cell_type": "code",
   "execution_count": 20,
   "metadata": {},
   "outputs": [
    {
     "data": {
      "image/png": "[encoded data removed]",
      "text/plain": [
       "<matplotlib.figure.Figure at 0x7f9d020125f8>"
      ]
     },
     "metadata": {
      "needs_background": "light"
     },
     "output_type": "display_data"
    }
   ],
   "source": [
    "figure,ax = plt.subplots(nrows=5,ncols=2, figsize=(20,25))\n",
    "figure.subplots_adjust(hspace = 0.7, wspace=0.2)\n",
    "for i in range(5):\n",
    "    sns.countplot(low_missing_rows[low_missing_cols[i]],ax=ax[i][0])\n",
    "    ax[i][0].set_title('low missing values')\n",
    "    sns.countplot(high_missing_rows[low_missing_cols[i]],ax=ax[i][1])\n",
    "    ax[i][1].set_title('high missing values')"
   ]
  },
  {
   "cell_type": "markdown",
   "metadata": {},
   "source": [
    "#### Discussion 1.1.3: Assess Missing Data in Each Row\n",
    "\n",
    "trying to tell if the distribution of data for low missing value data and high missing value data is the same, is sort of a judgement call. Obviously the distribution will never be exactly the same, but it seems that they adhere to the same trend.\n",
    "dropping the NaNs will lead to significant data loss, therefore, the mode of each column will be assigned to the missing values"
   ]
  },
  {
   "cell_type": "markdown",
   "metadata": {},
   "source": [
    "### Step 1.2: Select and Re-Encode Features\n",
    "\n",
    "Checking for missing data isn't the only way in which you can prepare a dataset for analysis. Since the unsupervised learning techniques to be used will only work on data that is encoded numerically, you need to make a few encoding changes or additional assumptions to be able to make progress. In addition, while almost all of the values in the dataset are encoded using numbers, not all of them represent numeric values. Check the third column of the feature summary (`feat_info`) for a summary of types of measurement.\n",
    "- For numeric and interval data, these features can be kept without changes.\n",
    "- Most of the variables in the dataset are ordinal in nature. While ordinal values may technically be non-linear in spacing, make the simplifying assumption that the ordinal variables can be treated as being interval in nature (that is, kept without any changes).\n",
    "- Special handling may be necessary for the remaining two variable types: categorical, and 'mixed'.\n",
    "\n",
    "In the first two parts of this sub-step, you will perform an investigation of the categorical and mixed-type features and make a decision on each of them, whether you will keep, drop, or re-encode each. Then, in the last part, you will create a new data frame with only the selected and engineered columns.\n",
    "\n",
    "Data wrangling is often the trickiest part of the data analysis process, and there's a lot of it to be done here. But stick with it: once you're done with this step, you'll be ready to get to the machine learning parts of the project!"
   ]
  },
  {
   "cell_type": "code",
   "execution_count": 21,
   "metadata": {},
   "outputs": [
    {
     "data": {
      "text/html": [
       "<div>\n",
       "<style scoped>\n",
       "    .dataframe tbody tr th:only-of-type {\n",
       "        vertical-align: middle;\n",
       "    }\n",
       "\n",
       "    .dataframe tbody tr th {\n",
       "        vertical-align: top;\n",
       "    }\n",
       "\n",
       "    .dataframe thead th {\n",
       "        text-align: right;\n",
       "    }\n",
       "</style>\n",
       "<table border=\"1\" class=\"dataframe\">\n",
       "  <thead>\n",
       "    <tr style=\"text-align: right;\">\n",
       "      <th></th>\n",
       "      <th>attribute</th>\n",
       "      <th>information_level</th>\n",
       "      <th>type</th>\n",
       "      <th>missing_or_unknown</th>\n",
       "    </tr>\n",
       "  </thead>\n",
       "  <tbody>\n",
       "    <tr>\n",
       "      <th>0</th>\n",
       "      <td>AGER_TYP</td>\n",
       "      <td>person</td>\n",
       "      <td>categorical</td>\n",
       "      <td>[-1,0]</td>\n",
       "    </tr>\n",
       "    <tr>\n",
       "      <th>1</th>\n",
       "      <td>ALTERSKATEGORIE_GROB</td>\n",
       "      <td>person</td>\n",
       "      <td>ordinal</td>\n",
       "      <td>[-1,0,9]</td>\n",
       "    </tr>\n",
       "    <tr>\n",
       "      <th>2</th>\n",
       "      <td>ANREDE_KZ</td>\n",
       "      <td>person</td>\n",
       "      <td>categorical</td>\n",
       "      <td>[-1,0]</td>\n",
       "    </tr>\n",
       "    <tr>\n",
       "      <th>3</th>\n",
       "      <td>CJT_GESAMTTYP</td>\n",
       "      <td>person</td>\n",
       "      <td>categorical</td>\n",
       "      <td>[0]</td>\n",
       "    </tr>\n",
       "    <tr>\n",
       "      <th>4</th>\n",
       "      <td>FINANZ_MINIMALIST</td>\n",
       "      <td>person</td>\n",
       "      <td>ordinal</td>\n",
       "      <td>[-1]</td>\n",
       "    </tr>\n",
       "  </tbody>\n",
       "</table>\n",
       "</div>"
      ],
      "text/plain": [
       "              attribute information_level         type missing_or_unknown\n",
       "0              AGER_TYP            person  categorical             [-1,0]\n",
       "1  ALTERSKATEGORIE_GROB            person      ordinal           [-1,0,9]\n",
       "2             ANREDE_KZ            person  categorical             [-1,0]\n",
       "3         CJT_GESAMTTYP            person  categorical                [0]\n",
       "4     FINANZ_MINIMALIST            person      ordinal               [-1]"
      ]
     },
     "execution_count": 21,
     "metadata": {},
     "output_type": "execute_result"
    }
   ],
   "source": [
    "feat_info.head()"
   ]
  },
  {
   "cell_type": "code",
   "execution_count": 22,
   "metadata": {},
   "outputs": [],
   "source": [
    "feat_info = feat_info.set_index('attribute')"
   ]
  },
  {
   "cell_type": "code",
   "execution_count": 23,
   "metadata": {},
   "outputs": [
    {
     "data": {
      "text/html": [
       "<div>\n",
       "<style scoped>\n",
       "    .dataframe tbody tr th:only-of-type {\n",
       "        vertical-align: middle;\n",
       "    }\n",
       "\n",
       "    .dataframe tbody tr th {\n",
       "        vertical-align: top;\n",
       "    }\n",
       "\n",
       "    .dataframe thead th {\n",
       "        text-align: right;\n",
       "    }\n",
       "</style>\n",
       "<table border=\"1\" class=\"dataframe\">\n",
       "  <thead>\n",
       "    <tr style=\"text-align: right;\">\n",
       "      <th></th>\n",
       "      <th>information_level</th>\n",
       "      <th>type</th>\n",
       "      <th>missing_or_unknown</th>\n",
       "    </tr>\n",
       "    <tr>\n",
       "      <th>attribute</th>\n",
       "      <th></th>\n",
       "      <th></th>\n",
       "      <th></th>\n",
       "    </tr>\n",
       "  </thead>\n",
       "  <tbody>\n",
       "    <tr>\n",
       "      <th>AGER_TYP</th>\n",
       "      <td>person</td>\n",
       "      <td>categorical</td>\n",
       "      <td>[-1,0]</td>\n",
       "    </tr>\n",
       "    <tr>\n",
       "      <th>ALTERSKATEGORIE_GROB</th>\n",
       "      <td>person</td>\n",
       "      <td>ordinal</td>\n",
       "      <td>[-1,0,9]</td>\n",
       "    </tr>\n",
       "    <tr>\n",
       "      <th>ANREDE_KZ</th>\n",
       "      <td>person</td>\n",
       "      <td>categorical</td>\n",
       "      <td>[-1,0]</td>\n",
       "    </tr>\n",
       "    <tr>\n",
       "      <th>CJT_GESAMTTYP</th>\n",
       "      <td>person</td>\n",
       "      <td>categorical</td>\n",
       "      <td>[0]</td>\n",
       "    </tr>\n",
       "    <tr>\n",
       "      <th>FINANZ_MINIMALIST</th>\n",
       "      <td>person</td>\n",
       "      <td>ordinal</td>\n",
       "      <td>[-1]</td>\n",
       "    </tr>\n",
       "  </tbody>\n",
       "</table>\n",
       "</div>"
      ],
      "text/plain": [
       "                     information_level         type missing_or_unknown\n",
       "attribute                                                             \n",
       "AGER_TYP                        person  categorical             [-1,0]\n",
       "ALTERSKATEGORIE_GROB            person      ordinal           [-1,0,9]\n",
       "ANREDE_KZ                       person  categorical             [-1,0]\n",
       "CJT_GESAMTTYP                   person  categorical                [0]\n",
       "FINANZ_MINIMALIST               person      ordinal               [-1]"
      ]
     },
     "execution_count": 23,
     "metadata": {},
     "output_type": "execute_result"
    }
   ],
   "source": [
    "feat_info.head()"
   ]
  },
  {
   "cell_type": "code",
   "execution_count": 24,
   "metadata": {},
   "outputs": [
    {
     "data": {
      "text/plain": [
       "{'ordinal': 49, 'categorical': 18, 'mixed': 6, 'numeric': 6}"
      ]
     },
     "execution_count": 24,
     "metadata": {},
     "output_type": "execute_result"
    }
   ],
   "source": [
    "# How many features are there of each data type?\n",
    "dic={}\n",
    "for column in low_missing_rows.columns.values:\n",
    "    data_type = feat_info['type'].loc[column]\n",
    "    if data_type not in dic:\n",
    "        dic[data_type]=1\n",
    "    else:\n",
    "        dic[data_type]+=1\n",
    "\n",
    "dic"
   ]
  },
  {
   "cell_type": "code",
   "execution_count": 25,
   "metadata": {},
   "outputs": [
    {
     "data": {
      "text/html": [
       "<div>\n",
       "<style scoped>\n",
       "    .dataframe tbody tr th:only-of-type {\n",
       "        vertical-align: middle;\n",
       "    }\n",
       "\n",
       "    .dataframe tbody tr th {\n",
       "        vertical-align: top;\n",
       "    }\n",
       "\n",
       "    .dataframe thead th {\n",
       "        text-align: right;\n",
       "    }\n",
       "</style>\n",
       "<table border=\"1\" class=\"dataframe\">\n",
       "  <thead>\n",
       "    <tr style=\"text-align: right;\">\n",
       "      <th></th>\n",
       "      <th>ALTERSKATEGORIE_GROB</th>\n",
       "      <th>ANREDE_KZ</th>\n",
       "      <th>CJT_GESAMTTYP</th>\n",
       "      <th>FINANZ_MINIMALIST</th>\n",
       "      <th>FINANZ_SPARER</th>\n",
       "      <th>FINANZ_VORSORGER</th>\n",
       "      <th>FINANZ_ANLEGER</th>\n",
       "      <th>FINANZ_UNAUFFAELLIGER</th>\n",
       "      <th>FINANZ_HAUSBAUER</th>\n",
       "      <th>FINANZTYP</th>\n",
       "      <th>...</th>\n",
       "      <th>PLZ8_ANTG1</th>\n",
       "      <th>PLZ8_ANTG2</th>\n",
       "      <th>PLZ8_ANTG3</th>\n",
       "      <th>PLZ8_ANTG4</th>\n",
       "      <th>PLZ8_BAUMAX</th>\n",
       "      <th>PLZ8_HHZ</th>\n",
       "      <th>PLZ8_GBZ</th>\n",
       "      <th>ARBEIT</th>\n",
       "      <th>ORTSGR_KLS9</th>\n",
       "      <th>RELAT_AB</th>\n",
       "    </tr>\n",
       "  </thead>\n",
       "  <tbody>\n",
       "    <tr>\n",
       "      <th>1</th>\n",
       "      <td>1.0</td>\n",
       "      <td>2.0</td>\n",
       "      <td>5.0</td>\n",
       "      <td>1.0</td>\n",
       "      <td>5.0</td>\n",
       "      <td>2.0</td>\n",
       "      <td>5.0</td>\n",
       "      <td>4.0</td>\n",
       "      <td>5.0</td>\n",
       "      <td>1.0</td>\n",
       "      <td>...</td>\n",
       "      <td>2.0</td>\n",
       "      <td>3.0</td>\n",
       "      <td>2.0</td>\n",
       "      <td>1.0</td>\n",
       "      <td>1.0</td>\n",
       "      <td>5.0</td>\n",
       "      <td>4.0</td>\n",
       "      <td>3.0</td>\n",
       "      <td>5.0</td>\n",
       "      <td>4.0</td>\n",
       "    </tr>\n",
       "    <tr>\n",
       "      <th>2</th>\n",
       "      <td>3.0</td>\n",
       "      <td>2.0</td>\n",
       "      <td>3.0</td>\n",
       "      <td>1.0</td>\n",
       "      <td>4.0</td>\n",
       "      <td>1.0</td>\n",
       "      <td>2.0</td>\n",
       "      <td>3.0</td>\n",
       "      <td>5.0</td>\n",
       "      <td>1.0</td>\n",
       "      <td>...</td>\n",
       "      <td>3.0</td>\n",
       "      <td>3.0</td>\n",
       "      <td>1.0</td>\n",
       "      <td>0.0</td>\n",
       "      <td>1.0</td>\n",
       "      <td>4.0</td>\n",
       "      <td>4.0</td>\n",
       "      <td>3.0</td>\n",
       "      <td>5.0</td>\n",
       "      <td>2.0</td>\n",
       "    </tr>\n",
       "    <tr>\n",
       "      <th>3</th>\n",
       "      <td>4.0</td>\n",
       "      <td>2.0</td>\n",
       "      <td>2.0</td>\n",
       "      <td>4.0</td>\n",
       "      <td>2.0</td>\n",
       "      <td>5.0</td>\n",
       "      <td>2.0</td>\n",
       "      <td>1.0</td>\n",
       "      <td>2.0</td>\n",
       "      <td>6.0</td>\n",
       "      <td>...</td>\n",
       "      <td>2.0</td>\n",
       "      <td>2.0</td>\n",
       "      <td>2.0</td>\n",
       "      <td>0.0</td>\n",
       "      <td>1.0</td>\n",
       "      <td>3.0</td>\n",
       "      <td>4.0</td>\n",
       "      <td>2.0</td>\n",
       "      <td>3.0</td>\n",
       "      <td>3.0</td>\n",
       "    </tr>\n",
       "    <tr>\n",
       "      <th>4</th>\n",
       "      <td>3.0</td>\n",
       "      <td>1.0</td>\n",
       "      <td>5.0</td>\n",
       "      <td>4.0</td>\n",
       "      <td>3.0</td>\n",
       "      <td>4.0</td>\n",
       "      <td>1.0</td>\n",
       "      <td>3.0</td>\n",
       "      <td>2.0</td>\n",
       "      <td>5.0</td>\n",
       "      <td>...</td>\n",
       "      <td>2.0</td>\n",
       "      <td>4.0</td>\n",
       "      <td>2.0</td>\n",
       "      <td>1.0</td>\n",
       "      <td>2.0</td>\n",
       "      <td>3.0</td>\n",
       "      <td>3.0</td>\n",
       "      <td>4.0</td>\n",
       "      <td>6.0</td>\n",
       "      <td>5.0</td>\n",
       "    </tr>\n",
       "    <tr>\n",
       "      <th>5</th>\n",
       "      <td>1.0</td>\n",
       "      <td>2.0</td>\n",
       "      <td>2.0</td>\n",
       "      <td>3.0</td>\n",
       "      <td>1.0</td>\n",
       "      <td>5.0</td>\n",
       "      <td>2.0</td>\n",
       "      <td>2.0</td>\n",
       "      <td>5.0</td>\n",
       "      <td>2.0</td>\n",
       "      <td>...</td>\n",
       "      <td>2.0</td>\n",
       "      <td>3.0</td>\n",
       "      <td>1.0</td>\n",
       "      <td>1.0</td>\n",
       "      <td>1.0</td>\n",
       "      <td>5.0</td>\n",
       "      <td>5.0</td>\n",
       "      <td>2.0</td>\n",
       "      <td>3.0</td>\n",
       "      <td>3.0</td>\n",
       "    </tr>\n",
       "  </tbody>\n",
       "</table>\n",
       "<p>5 rows × 79 columns</p>\n",
       "</div>"
      ],
      "text/plain": [
       "   ALTERSKATEGORIE_GROB  ANREDE_KZ  CJT_GESAMTTYP  FINANZ_MINIMALIST  \\\n",
       "1                   1.0        2.0            5.0                1.0   \n",
       "2                   3.0        2.0            3.0                1.0   \n",
       "3                   4.0        2.0            2.0                4.0   \n",
       "4                   3.0        1.0            5.0                4.0   \n",
       "5                   1.0        2.0            2.0                3.0   \n",
       "\n",
       "   FINANZ_SPARER  FINANZ_VORSORGER  FINANZ_ANLEGER  FINANZ_UNAUFFAELLIGER  \\\n",
       "1            5.0               2.0             5.0                    4.0   \n",
       "2            4.0               1.0             2.0                    3.0   \n",
       "3            2.0               5.0             2.0                    1.0   \n",
       "4            3.0               4.0             1.0                    3.0   \n",
       "5            1.0               5.0             2.0                    2.0   \n",
       "\n",
       "   FINANZ_HAUSBAUER  FINANZTYP    ...     PLZ8_ANTG1  PLZ8_ANTG2  PLZ8_ANTG3  \\\n",
       "1               5.0        1.0    ...            2.0         3.0         2.0   \n",
       "2               5.0        1.0    ...            3.0         3.0         1.0   \n",
       "3               2.0        6.0    ...            2.0         2.0         2.0   \n",
       "4               2.0        5.0    ...            2.0         4.0         2.0   \n",
       "5               5.0        2.0    ...            2.0         3.0         1.0   \n",
       "\n",
       "   PLZ8_ANTG4  PLZ8_BAUMAX  PLZ8_HHZ  PLZ8_GBZ  ARBEIT  ORTSGR_KLS9  RELAT_AB  \n",
       "1         1.0          1.0       5.0       4.0     3.0          5.0       4.0  \n",
       "2         0.0          1.0       4.0       4.0     3.0          5.0       2.0  \n",
       "3         0.0          1.0       3.0       4.0     2.0          3.0       3.0  \n",
       "4         1.0          2.0       3.0       3.0     4.0          6.0       5.0  \n",
       "5         1.0          1.0       5.0       5.0     2.0          3.0       3.0  \n",
       "\n",
       "[5 rows x 79 columns]"
      ]
     },
     "execution_count": 25,
     "metadata": {},
     "output_type": "execute_result"
    }
   ],
   "source": [
    "low_missing_rows.head()"
   ]
  },
  {
   "cell_type": "markdown",
   "metadata": {},
   "source": [
    "#### Step 1.2.1: Re-Encode Categorical Features\n",
    "\n",
    "For categorical data, you would ordinarily need to encode the levels as dummy variables. Depending on the number of categories, perform one of the following:\n",
    "- For binary (two-level) categoricals that take numeric values, you can keep them without needing to do anything.\n",
    "- There is one binary variable that takes on non-numeric values. For this one, you need to re-encode the values as numbers or create a dummy variable.\n",
    "- For multi-level categoricals (three or more values), you can choose to encode the values using multiple dummy variables (e.g. via [OneHotEncoder](http://scikit-learn.org/stable/modules/generated/sklearn.preprocessing.OneHotEncoder.html)), or (to keep things straightforward) just drop them from the analysis. As always, document your choices in the Discussion section."
   ]
  },
  {
   "cell_type": "code",
   "execution_count": 26,
   "metadata": {},
   "outputs": [
    {
     "name": "stdout",
     "output_type": "stream",
     "text": [
      "ANREDE_KZ 2 float64\n",
      "CJT_GESAMTTYP 6 float64\n",
      "FINANZTYP 6 float64\n",
      "GFK_URLAUBERTYP 12 float64\n",
      "GREEN_AVANTGARDE 2 int64\n",
      "LP_FAMILIE_FEIN 12 float64\n",
      "LP_FAMILIE_GROB 6 float64\n",
      "LP_STATUS_FEIN 10 float64\n",
      "LP_STATUS_GROB 5 float64\n",
      "NATIONALITAET_KZ 4 float64\n",
      "SHOPPER_TYP 5 float64\n",
      "SOHO_KZ 2 float64\n",
      "VERS_TYP 3 float64\n",
      "ZABEOTYP 6 float64\n",
      "GEBAEUDETYP 7 float64\n",
      "OST_WEST_KZ 2 object\n",
      "CAMEO_DEUG_2015 10 object\n",
      "CAMEO_DEU_2015 45 object\n",
      "\n",
      "binary categorical columns are ['ANREDE_KZ', 'GREEN_AVANTGARDE', 'SOHO_KZ', 'OST_WEST_KZ']\n",
      "\n",
      "multi level categorical columns are ['CJT_GESAMTTYP', 'FINANZTYP', 'GFK_URLAUBERTYP', 'LP_FAMILIE_FEIN', 'LP_FAMILIE_GROB', 'LP_STATUS_FEIN', 'LP_STATUS_GROB', 'NATIONALITAET_KZ', 'SHOPPER_TYP', 'VERS_TYP', 'ZABEOTYP', 'GEBAEUDETYP', 'CAMEO_DEUG_2015', 'CAMEO_DEU_2015']\n"
     ]
    }
   ],
   "source": [
    "# Assess categorical variables: which are binary, which are multi-level, and\n",
    "# which one needs to be re-encoded?\n",
    "binary_categorical=[]\n",
    "multilevel_categorical=[]\n",
    "for column in low_missing_rows.columns.values:\n",
    "    if feat_info['type'].loc[column] == 'categorical':\n",
    "        if len(low_missing_rows[column].unique())==2:\n",
    "            print(column, len(low_missing_rows[column].unique()), low_missing_rows[column].dtype)\n",
    "            binary_categorical.append(column)\n",
    "        elif len(low_missing_rows[column].unique())>2:\n",
    "            print(column, len(low_missing_rows[column].unique()), low_missing_rows[column].dtype)\n",
    "            multilevel_categorical.append(column)\n",
    "            \n",
    "\n",
    "print('\\nbinary categorical columns are {}'.format(binary_categorical))\n",
    "print('\\nmulti level categorical columns are {}'.format(multilevel_categorical))"
   ]
  },
  {
   "cell_type": "code",
   "execution_count": 27,
   "metadata": {},
   "outputs": [
    {
     "data": {
      "text/plain": [
       "array(['W', 'O'], dtype=object)"
      ]
     },
     "execution_count": 27,
     "metadata": {},
     "output_type": "execute_result"
    }
   ],
   "source": [
    "low_missing_rows['OST_WEST_KZ'].unique() "
   ]
  },
  {
   "cell_type": "code",
   "execution_count": 28,
   "metadata": {},
   "outputs": [],
   "source": [
    "low_missing_rows.loc[low_missing_rows['OST_WEST_KZ']=='W', 'OST_WEST_KZ']=1\n",
    "low_missing_rows.loc[low_missing_rows['OST_WEST_KZ']=='O', 'OST_WEST_KZ']=0\n"
   ]
  },
  {
   "cell_type": "code",
   "execution_count": 29,
   "metadata": {},
   "outputs": [
    {
     "data": {
      "text/plain": [
       "array([1, 0])"
      ]
     },
     "execution_count": 29,
     "metadata": {},
     "output_type": "execute_result"
    }
   ],
   "source": [
    "low_missing_rows['OST_WEST_KZ'].head()\n",
    "low_missing_rows['OST_WEST_KZ'].unique()"
   ]
  },
  {
   "cell_type": "code",
   "execution_count": 30,
   "metadata": {},
   "outputs": [],
   "source": [
    "dummy_df = low_missing_rows"
   ]
  },
  {
   "cell_type": "code",
   "execution_count": 31,
   "metadata": {},
   "outputs": [],
   "source": [
    "for col in multilevel_categorical:\n",
    "    dummy_df.drop(col, axis=1, inplace=True)"
   ]
  },
  {
   "cell_type": "markdown",
   "metadata": {},
   "source": [
    "#### Discussion 1.2.1: Re-Encode Categorical Features\n",
    "\n",
    "As for the binary categorical data, they were kept in the dataframe, but one of them needed to be converted into numerical format. This was done by assigning 1 and 0 to each of the unique variables in the column.\n",
    "as for the multi level categorical features, some had too many unique variables. one hot encoding on these columns would create too many new columns, with minimal information. I decided to remove all the multilevel categorical data."
   ]
  },
  {
   "cell_type": "code",
   "execution_count": 32,
   "metadata": {},
   "outputs": [
    {
     "data": {
      "text/plain": [
       "['LP_LEBENSPHASE_FEIN',\n",
       " 'LP_LEBENSPHASE_GROB',\n",
       " 'PRAEGENDE_JUGENDJAHRE',\n",
       " 'WOHNLAGE',\n",
       " 'CAMEO_INTL_2015',\n",
       " 'PLZ8_BAUMAX']"
      ]
     },
     "execution_count": 32,
     "metadata": {},
     "output_type": "execute_result"
    }
   ],
   "source": [
    "# Find the column names for mixed type columns\n",
    "mixed_features = []\n",
    "for column in low_missing_rows.columns.values:\n",
    "    if feat_info['type'].loc[column] == 'mixed':\n",
    "        mixed_features.append(column)\n",
    "        \n",
    "mixed_features"
   ]
  },
  {
   "cell_type": "markdown",
   "metadata": {},
   "source": [
    "#### Step 1.2.2: Engineer Mixed-Type Features\n",
    "\n",
    "There are a handful of features that are marked as \"mixed\" in the feature summary that require special treatment in order to be included in the analysis. There are two in particular that deserve attention; the handling of the rest are up to your own choices:\n",
    "- \"PRAEGENDE_JUGENDJAHRE\" combines information on three dimensions: generation by decade, movement (mainstream vs. avantgarde), and nation (east vs. west). While there aren't enough levels to disentangle east from west, you should create two new variables to capture the other two dimensions: an interval-type variable for decade, and a binary variable for movement.\n",
    "- \"CAMEO_INTL_2015\" combines information on two axes: wealth and life stage. Break up the two-digit codes by their 'tens'-place and 'ones'-place digits into two new ordinal variables (which, for the purposes of this project, is equivalent to just treating them as their raw numeric values).\n",
    "- If you decide to keep or engineer new features around the other mixed-type features, make sure you note your steps in the Discussion section.\n",
    "\n",
    "Be sure to check `Data_Dictionary.md` for the details needed to finish these tasks."
   ]
  },
  {
   "cell_type": "code",
   "execution_count": 33,
   "metadata": {},
   "outputs": [
    {
     "data": {
      "text/plain": [
       "count    749241.000000\n",
       "mean          9.259616\n",
       "std           4.026341\n",
       "min           1.000000\n",
       "25%           6.000000\n",
       "50%           9.000000\n",
       "75%          14.000000\n",
       "max          15.000000\n",
       "Name: PRAEGENDE_JUGENDJAHRE, dtype: float64"
      ]
     },
     "execution_count": 33,
     "metadata": {},
     "output_type": "execute_result"
    }
   ],
   "source": [
    "# Investigate \"PRAEGENDE_JUGENDJAHRE\" and engineer two new variables.\n",
    "\n",
    "dummy_df['PRAEGENDE_JUGENDJAHRE'].describe()"
   ]
  },
  {
   "cell_type": "code",
   "execution_count": 34,
   "metadata": {},
   "outputs": [],
   "source": [
    "def define_interval(x):\n",
    "    if x < 3:\n",
    "        return 1\n",
    "    elif x < 5:\n",
    "        return 2\n",
    "    elif x <8:\n",
    "        return 3\n",
    "    elif x <10:\n",
    "        return 4\n",
    "    elif x <14:\n",
    "        return 5\n",
    "    elif x <=15:\n",
    "        return 6\n",
    "    \n",
    "def define_movement(x):\n",
    "    if x in (2,4,6,7,9,11,13,15):\n",
    "        return 0\n",
    "    if x in (1,3,5,8,10,12,14):\n",
    "        return 1"
   ]
  },
  {
   "cell_type": "code",
   "execution_count": 35,
   "metadata": {},
   "outputs": [],
   "source": [
    "dummy_df['decade'] = dummy_df['PRAEGENDE_JUGENDJAHRE'].apply(define_interval)"
   ]
  },
  {
   "cell_type": "code",
   "execution_count": 36,
   "metadata": {},
   "outputs": [],
   "source": [
    "dummy_df['movement'] = dummy_df['PRAEGENDE_JUGENDJAHRE'].apply(define_movement)"
   ]
  },
  {
   "cell_type": "code",
   "execution_count": 37,
   "metadata": {},
   "outputs": [],
   "source": [
    "# Investigate \"CAMEO_INTL_2015\" and engineer two new variables.\n",
    "def wealth(x):\n",
    "    if float(x) // 10 ==1:\n",
    "        return 1\n",
    "    if float(x) // 10 ==2:\n",
    "        return 2\n",
    "    if float(x) // 10 ==3:\n",
    "        return 3\n",
    "    if float(x) // 10 ==4:\n",
    "        return 4\n",
    "    if float(x) // 10 ==5:\n",
    "        return 5\n",
    "    \n",
    "def life_stage(x):\n",
    "    if float(x) % 10 ==1:\n",
    "        return 1\n",
    "    if float(x) % 10 ==2:\n",
    "        return 2\n",
    "    if float(x) % 10 ==3:\n",
    "        return 3\n",
    "    if float(x) % 10 ==4:\n",
    "        return 4\n",
    "    if float(x) % 10 ==5:\n",
    "        return 5"
   ]
  },
  {
   "cell_type": "code",
   "execution_count": 38,
   "metadata": {},
   "outputs": [],
   "source": [
    "dummy_df['wealth'] = dummy_df['CAMEO_INTL_2015'].apply(wealth)\n",
    "dummy_df['life_stage'] = dummy_df['CAMEO_INTL_2015'].apply(life_stage)\n",
    "#dummy_df.drop('CAMEO_INTL_2015', axis=1, inplace=True)"
   ]
  },
  {
   "cell_type": "code",
   "execution_count": 39,
   "metadata": {},
   "outputs": [],
   "source": [
    "#drop the mixed features including the mandatory ones as they have been re-encoded\n",
    "for col in mixed_features:\n",
    "    dummy_df.drop(col, axis=1, inplace=True)"
   ]
  },
  {
   "cell_type": "code",
   "execution_count": 40,
   "metadata": {},
   "outputs": [
    {
     "name": "stdout",
     "output_type": "stream",
     "text": [
      "total number of features are 63\n"
     ]
    }
   ],
   "source": [
    "print('total number of features are', dummy_df.shape[1])"
   ]
  },
  {
   "cell_type": "code",
   "execution_count": 41,
   "metadata": {},
   "outputs": [
    {
     "data": {
      "text/plain": [
       "Index(['ALTERSKATEGORIE_GROB', 'ANREDE_KZ', 'FINANZ_MINIMALIST',\n",
       "       'FINANZ_SPARER', 'FINANZ_VORSORGER', 'FINANZ_ANLEGER',\n",
       "       'FINANZ_UNAUFFAELLIGER', 'FINANZ_HAUSBAUER', 'GREEN_AVANTGARDE',\n",
       "       'HEALTH_TYP', 'RETOURTYP_BK_S', 'SEMIO_SOZ', 'SEMIO_FAM', 'SEMIO_REL',\n",
       "       'SEMIO_MAT', 'SEMIO_VERT', 'SEMIO_LUST', 'SEMIO_ERL', 'SEMIO_KULT',\n",
       "       'SEMIO_RAT', 'SEMIO_KRIT', 'SEMIO_DOM', 'SEMIO_KAEM', 'SEMIO_PFLICHT',\n",
       "       'SEMIO_TRADV', 'SOHO_KZ', 'ANZ_PERSONEN', 'ANZ_TITEL',\n",
       "       'HH_EINKOMMEN_SCORE', 'W_KEIT_KIND_HH', 'WOHNDAUER_2008',\n",
       "       'ANZ_HAUSHALTE_AKTIV', 'ANZ_HH_TITEL', 'KONSUMNAEHE',\n",
       "       'MIN_GEBAEUDEJAHR', 'OST_WEST_KZ', 'KBA05_ANTG1', 'KBA05_ANTG2',\n",
       "       'KBA05_ANTG3', 'KBA05_ANTG4', 'KBA05_GBZ', 'BALLRAUM', 'EWDICHTE',\n",
       "       'INNENSTADT', 'GEBAEUDETYP_RASTER', 'KKK', 'MOBI_REGIO',\n",
       "       'ONLINE_AFFINITAET', 'REGIOTYP', 'KBA13_ANZAHL_PKW', 'PLZ8_ANTG1',\n",
       "       'PLZ8_ANTG2', 'PLZ8_ANTG3', 'PLZ8_ANTG4', 'PLZ8_HHZ', 'PLZ8_GBZ',\n",
       "       'ARBEIT', 'ORTSGR_KLS9', 'RELAT_AB', 'decade', 'movement', 'wealth',\n",
       "       'life_stage'],\n",
       "      dtype='object')"
      ]
     },
     "execution_count": 41,
     "metadata": {},
     "output_type": "execute_result"
    }
   ],
   "source": [
    "dummy_df.columns"
   ]
  },
  {
   "cell_type": "code",
   "execution_count": 42,
   "metadata": {},
   "outputs": [],
   "source": [
    "# Create a check point\n",
    "dummy_df.to_csv('dummy_df2.csv')\n"
   ]
  },
  {
   "cell_type": "markdown",
   "metadata": {},
   "source": [
    "#### Discussion 1.2.2: Engineer Mixed-Type Features\n",
    "PRAEGENDE_JUGENDJAHRE was divided into decade and movement columns and CAMEO_INTL_2015 was divided into wealth and life stage. the rest of the mixed data types were dropped from the dataframe."
   ]
  },
  {
   "cell_type": "markdown",
   "metadata": {},
   "source": [
    "#### Step 1.2.3: Complete Feature Selection\n",
    "\n",
    "In order to finish this step up, you need to make sure that your data frame now only has the columns that you want to keep. To summarize, the dataframe should consist of the following:\n",
    "- All numeric, interval, and ordinal type columns from the original dataset.\n",
    "- Binary categorical features (all numerically-encoded).\n",
    "- Engineered features from other multi-level categorical features and mixed features.\n",
    "\n",
    "Make sure that for any new columns that you have engineered, that you've excluded the original columns from the final dataset. Otherwise, their values will interfere with the analysis later on the project. For example, you should not keep \"PRAEGENDE_JUGENDJAHRE\", since its values won't be useful for the algorithm: only the values derived from it in the engineered features you created should be retained. As a reminder, your data should only be from **the subset with few or no missing values**."
   ]
  },
  {
   "cell_type": "code",
   "execution_count": 43,
   "metadata": {},
   "outputs": [
    {
     "data": {
      "text/plain": [
       "63"
      ]
     },
     "execution_count": 43,
     "metadata": {},
     "output_type": "execute_result"
    }
   ],
   "source": [
    "# If there are other re-engineering tasks you need to perform, make sure you\n",
    "# take care of them here. (Dealing with missing data will come in step 2.1.)\n",
    "\n",
    "len(dummy_df.columns.unique())"
   ]
  },
  {
   "cell_type": "code",
   "execution_count": 44,
   "metadata": {},
   "outputs": [
    {
     "data": {
      "text/plain": [
       "Index(['ALTERSKATEGORIE_GROB', 'ANREDE_KZ', 'FINANZ_MINIMALIST',\n",
       "       'FINANZ_SPARER', 'FINANZ_VORSORGER', 'FINANZ_ANLEGER',\n",
       "       'FINANZ_UNAUFFAELLIGER', 'FINANZ_HAUSBAUER', 'GREEN_AVANTGARDE',\n",
       "       'HEALTH_TYP', 'RETOURTYP_BK_S', 'SEMIO_SOZ', 'SEMIO_FAM', 'SEMIO_REL',\n",
       "       'SEMIO_MAT', 'SEMIO_VERT', 'SEMIO_LUST', 'SEMIO_ERL', 'SEMIO_KULT',\n",
       "       'SEMIO_RAT', 'SEMIO_KRIT', 'SEMIO_DOM', 'SEMIO_KAEM', 'SEMIO_PFLICHT',\n",
       "       'SEMIO_TRADV', 'SOHO_KZ', 'ANZ_PERSONEN', 'ANZ_TITEL',\n",
       "       'HH_EINKOMMEN_SCORE', 'W_KEIT_KIND_HH', 'WOHNDAUER_2008',\n",
       "       'ANZ_HAUSHALTE_AKTIV', 'ANZ_HH_TITEL', 'KONSUMNAEHE',\n",
       "       'MIN_GEBAEUDEJAHR', 'OST_WEST_KZ', 'KBA05_ANTG1', 'KBA05_ANTG2',\n",
       "       'KBA05_ANTG3', 'KBA05_ANTG4', 'KBA05_GBZ', 'BALLRAUM', 'EWDICHTE',\n",
       "       'INNENSTADT', 'GEBAEUDETYP_RASTER', 'KKK', 'MOBI_REGIO',\n",
       "       'ONLINE_AFFINITAET', 'REGIOTYP', 'KBA13_ANZAHL_PKW', 'PLZ8_ANTG1',\n",
       "       'PLZ8_ANTG2', 'PLZ8_ANTG3', 'PLZ8_ANTG4', 'PLZ8_HHZ', 'PLZ8_GBZ',\n",
       "       'ARBEIT', 'ORTSGR_KLS9', 'RELAT_AB', 'decade', 'movement', 'wealth',\n",
       "       'life_stage'],\n",
       "      dtype='object')"
      ]
     },
     "execution_count": 44,
     "metadata": {},
     "output_type": "execute_result"
    }
   ],
   "source": [
    "# Do whatever you need to in order to ensure that the dataframe only contains\n",
    "# the columns that should be passed to the algorithm functions.\n",
    "\n",
    "dummy_df.columns"
   ]
  },
  {
   "cell_type": "markdown",
   "metadata": {},
   "source": [
    "### Step 1.3: Create a Cleaning Function\n",
    "\n",
    "Even though you've finished cleaning up the general population demographics data, it's important to look ahead to the future and realize that you'll need to perform the same cleaning steps on the customer demographics data. In this substep, complete the function below to execute the main feature selection, encoding, and re-engineering steps you performed above. Then, when it comes to looking at the customer data in Step 3, you can just run this function on that DataFrame to get the trimmed dataset in a single step."
   ]
  },
  {
   "cell_type": "code",
   "execution_count": 45,
   "metadata": {},
   "outputs": [
    {
     "data": {
      "text/plain": [
       "attribute\n",
       "AGER_TYP                   [-1,0]\n",
       "ALTERSKATEGORIE_GROB     [-1,0,9]\n",
       "ANREDE_KZ                  [-1,0]\n",
       "CJT_GESAMTTYP                 [0]\n",
       "FINANZ_MINIMALIST            [-1]\n",
       "FINANZ_SPARER                [-1]\n",
       "FINANZ_VORSORGER             [-1]\n",
       "FINANZ_ANLEGER               [-1]\n",
       "FINANZ_UNAUFFAELLIGER        [-1]\n",
       "FINANZ_HAUSBAUER             [-1]\n",
       "FINANZTYP                    [-1]\n",
       "GEBURTSJAHR                   [0]\n",
       "GFK_URLAUBERTYP                []\n",
       "GREEN_AVANTGARDE               []\n",
       "HEALTH_TYP                 [-1,0]\n",
       "LP_LEBENSPHASE_FEIN           [0]\n",
       "LP_LEBENSPHASE_GROB           [0]\n",
       "LP_FAMILIE_FEIN               [0]\n",
       "LP_FAMILIE_GROB               [0]\n",
       "LP_STATUS_FEIN                [0]\n",
       "LP_STATUS_GROB                [0]\n",
       "NATIONALITAET_KZ           [-1,0]\n",
       "PRAEGENDE_JUGENDJAHRE      [-1,0]\n",
       "RETOURTYP_BK_S                [0]\n",
       "SEMIO_SOZ                  [-1,9]\n",
       "SEMIO_FAM                  [-1,9]\n",
       "SEMIO_REL                  [-1,9]\n",
       "SEMIO_MAT                  [-1,9]\n",
       "SEMIO_VERT                 [-1,9]\n",
       "SEMIO_LUST                 [-1,9]\n",
       "                           ...   \n",
       "OST_WEST_KZ                  [-1]\n",
       "WOHNLAGE                     [-1]\n",
       "CAMEO_DEUG_2015            [-1,X]\n",
       "CAMEO_DEU_2015               [XX]\n",
       "CAMEO_INTL_2015           [-1,XX]\n",
       "KBA05_ANTG1                  [-1]\n",
       "KBA05_ANTG2                  [-1]\n",
       "KBA05_ANTG3                  [-1]\n",
       "KBA05_ANTG4                  [-1]\n",
       "KBA05_BAUMAX               [-1,0]\n",
       "KBA05_GBZ                  [-1,0]\n",
       "BALLRAUM                     [-1]\n",
       "EWDICHTE                     [-1]\n",
       "INNENSTADT                   [-1]\n",
       "GEBAEUDETYP_RASTER             []\n",
       "KKK                        [-1,0]\n",
       "MOBI_REGIO                     []\n",
       "ONLINE_AFFINITAET              []\n",
       "REGIOTYP                   [-1,0]\n",
       "KBA13_ANZAHL_PKW               []\n",
       "PLZ8_ANTG1                   [-1]\n",
       "PLZ8_ANTG2                   [-1]\n",
       "PLZ8_ANTG3                   [-1]\n",
       "PLZ8_ANTG4                   [-1]\n",
       "PLZ8_BAUMAX                [-1,0]\n",
       "PLZ8_HHZ                     [-1]\n",
       "PLZ8_GBZ                     [-1]\n",
       "ARBEIT                     [-1,9]\n",
       "ORTSGR_KLS9                [-1,0]\n",
       "RELAT_AB                   [-1,9]\n",
       "Name: missing_or_unknown, Length: 85, dtype: object"
      ]
     },
     "execution_count": 45,
     "metadata": {},
     "output_type": "execute_result"
    }
   ],
   "source": [
    "feat_info['missing_or_unknown']"
   ]
  },
  {
   "cell_type": "code",
   "execution_count": 46,
   "metadata": {},
   "outputs": [
    {
     "data": {
      "text/plain": [
       "Index(['ALTERSKATEGORIE_GROB', 'ANREDE_KZ', 'FINANZ_MINIMALIST',\n",
       "       'FINANZ_SPARER', 'FINANZ_VORSORGER', 'FINANZ_ANLEGER',\n",
       "       'FINANZ_UNAUFFAELLIGER', 'FINANZ_HAUSBAUER', 'GREEN_AVANTGARDE',\n",
       "       'HEALTH_TYP', 'RETOURTYP_BK_S', 'SEMIO_SOZ', 'SEMIO_FAM', 'SEMIO_REL',\n",
       "       'SEMIO_MAT', 'SEMIO_VERT', 'SEMIO_LUST', 'SEMIO_ERL', 'SEMIO_KULT',\n",
       "       'SEMIO_RAT', 'SEMIO_KRIT', 'SEMIO_DOM', 'SEMIO_KAEM', 'SEMIO_PFLICHT',\n",
       "       'SEMIO_TRADV', 'SOHO_KZ', 'ANZ_PERSONEN', 'ANZ_TITEL',\n",
       "       'HH_EINKOMMEN_SCORE', 'W_KEIT_KIND_HH', 'WOHNDAUER_2008',\n",
       "       'ANZ_HAUSHALTE_AKTIV', 'ANZ_HH_TITEL', 'KONSUMNAEHE',\n",
       "       'MIN_GEBAEUDEJAHR', 'OST_WEST_KZ', 'KBA05_ANTG1', 'KBA05_ANTG2',\n",
       "       'KBA05_ANTG3', 'KBA05_ANTG4', 'KBA05_GBZ', 'BALLRAUM', 'EWDICHTE',\n",
       "       'INNENSTADT', 'GEBAEUDETYP_RASTER', 'KKK', 'MOBI_REGIO',\n",
       "       'ONLINE_AFFINITAET', 'REGIOTYP', 'KBA13_ANZAHL_PKW', 'PLZ8_ANTG1',\n",
       "       'PLZ8_ANTG2', 'PLZ8_ANTG3', 'PLZ8_ANTG4', 'PLZ8_HHZ', 'PLZ8_GBZ',\n",
       "       'ARBEIT', 'ORTSGR_KLS9', 'RELAT_AB', 'decade', 'movement', 'wealth',\n",
       "       'life_stage'],\n",
       "      dtype='object')"
      ]
     },
     "execution_count": 46,
     "metadata": {},
     "output_type": "execute_result"
    }
   ],
   "source": [
    "low_missing_rows.columns"
   ]
  },
  {
   "cell_type": "code",
   "execution_count": 72,
   "metadata": {},
   "outputs": [],
   "source": [
    "def clean_data(df):\n",
    "    \"\"\"\n",
    "    Perform feature trimming, re-encoding, and engineering for demographics\n",
    "    data\n",
    "    \n",
    "    INPUT: Demographics DataFrame\n",
    "    OUTPUT: Trimmed and cleaned demographics DataFrame\n",
    "    \"\"\"\n",
    "    \n",
    "    # remove selected columns \n",
    "    columns_removed = ['TITEL_KZ', 'AGER_TYP', 'KK_KUNDENTYP', 'KBA05_BAUMAX', 'GEBURTSJAHR', 'ALTER_HH', 'CAMEO_DEUG_2015',\n",
    "                      'CAMEO_DEU_2015','CAMEO_INTL_2015']\n",
    "    for col in columns_removed:\n",
    "        try:\n",
    "            df.drop(col, axis=1, inplace=True)\n",
    "        except:\n",
    "            None\n",
    "    \n",
    "    # Put in code here to execute all main cleaning steps:\n",
    "    feat_info = pd.read_csv('AZDIAS_Feature_Summary.csv', delimiter=';')\n",
    "    # convert missing value codes into NaNs, ...\n",
    "    # Identify missing or unknown data values and convert them to NaNs.\n",
    "\n",
    "    \n",
    "    for col in range(df.shape[1]):\n",
    "        col_name=df.columns[col]\n",
    "        na_list=feat_info.iloc[col,3]\n",
    "        na_list=na_list.replace('[', '')\n",
    "        na_list=na_list.replace(']', '')\n",
    "        na_list=na_list.split(',')\n",
    "        if na_list == ['']:\n",
    "            continue\n",
    "        else:\n",
    "            for na_code in na_list:\n",
    "                if df[col_name].dtype =='object':\n",
    "                    df.loc[df[col_name]==na_code,col_name]=np.nan \n",
    "                else:\n",
    "                    na_code=int(na_code)\n",
    "                    df.loc[df[col_name]==na_code,col_name]=np.nan\n",
    "    \n",
    "    \n",
    "    feat_info = feat_info.set_index('attribute')\n",
    "    \n",
    "    \n",
    "    \n",
    "        \n",
    "    # remove selected rows\n",
    "    low_missing_rows = df[df.isnull().sum(axis=1) < 10].reset_index(drop=True)\n",
    "    \n",
    "    # impute the remaining missing values \n",
    "    for col in low_missing_rows.columns:\n",
    "        low_missing_rows[col] = low_missing_rows[col].fillna(low_missing_rows[col].mode()[0])\n",
    "        \n",
    "    \n",
    "    # feature engineering of categorical features\n",
    "    \n",
    "    binary_categorical=[]\n",
    "    multilevel_categorical=[]\n",
    "    \n",
    "    for column in low_missing_rows.columns.values:\n",
    "        if feat_info['type'].loc[column] == 'categorical':\n",
    "            if len(low_missing_rows[column].unique())==2:\n",
    "                print(column, len(low_missing_rows[column].unique()), low_missing_rows[column].dtype)\n",
    "                binary_categorical.append(column)\n",
    "            elif len(low_missing_rows[column].unique())>2:\n",
    "                print(column, len(low_missing_rows[column].unique()), low_missing_rows[column].dtype)\n",
    "                multilevel_categorical.append(column)\n",
    "    \n",
    "    mixed_features = []\n",
    "    for column in low_missing_rows.columns.values:\n",
    "        if feat_info['type'].loc[column] == 'mixed':\n",
    "            mixed_features.append(column)\n",
    "    # Re-encode categorical variable(s) to be kept in the analysis.\n",
    "    #for item in ['CAMEO_DEU_2015','CAMEO_DEUG_2015','LP_FAMILIE_FEIN','GFK_URLAUBERTYP','LP_STATUS_FEIN','TITEL_KZ','GEBAEUDETYP']:\n",
    "     #   multilevel_categorical.remove(item)\n",
    "        \n",
    "    \n",
    "    #filtered_low_missing_rows = low_missing_rows.drop(['CAMEO_DEU_2015','CAMEO_DEUG_2015','LP_FAMILIE_FEIN',\n",
    "     #                                             'GFK_URLAUBERTYP','LP_STATUS_FEIN'],axis=1)\n",
    "    \n",
    "    # one hot encoding\n",
    "    #dummy_df = pd.get_dummies(filtered_low_missing_rows, columns=multilevel_categorical)\n",
    "    # I did the one hot encoding but the end results look weird, and most of the customers get into one single segment. \n",
    "    # so instead of one hot encoding I will remove all the multilevel categorical data\n",
    "    # feature engineering of mixed features\n",
    "    \n",
    "    dummy_df = low_missing_rows\n",
    "    dummy_df['decade'] = dummy_df['PRAEGENDE_JUGENDJAHRE'].apply(define_interval)\n",
    "    dummy_df['movement'] = dummy_df['PRAEGENDE_JUGENDJAHRE'].apply(define_movement)\n",
    "    #dummy_df.drop('PRAEGENDE_JUGENDJAHRE', axis=1, inplace=True)\n",
    "    \n",
    "        \n",
    "    dummy_df['CAMEO_INTL_2015'] = dummy_df['CAMEO_INTL_2015'].astype('float')\n",
    "    \n",
    "    for col in dummy_df.columns:\n",
    "        dummy_df[col] = dummy_df[col].fillna(dummy_df[col].mode()[0])\n",
    "        \n",
    "    dummy_df['wealth'] = dummy_df['CAMEO_INTL_2015'].apply(wealth)\n",
    "    dummy_df['life_stage'] = dummy_df['CAMEO_INTL_2015'].apply(life_stage)\n",
    "    #dummy_df.drop('CAMEO_INTL_2015', axis=1, inplace=True)\n",
    "        \n",
    "   \n",
    "    #for binary categorical data with object type:\n",
    "    dummy_df['OST_WEST_KZ'].loc[dummy_df['OST_WEST_KZ']=='W']=1\n",
    "    dummy_df['OST_WEST_KZ'].loc[dummy_df['OST_WEST_KZ']=='O']=0\n",
    "\n",
    "    for col in multilevel_categorical:\n",
    "        dummy_df.drop(col,axis=1, inplace=True)\n",
    "    \n",
    "    \n",
    "    \n",
    "        \n",
    "    for col in mixed_features:\n",
    "        try:\n",
    "            dummy_df.drop(col, axis=1, inplace=True)\n",
    "        except:\n",
    "            None #already dropped\n",
    "    # Return the cleaned dataframe.\n",
    "    return dummy_df"
   ]
  },
  {
   "cell_type": "markdown",
   "metadata": {},
   "source": [
    "## Step 2: Feature Transformation\n",
    "\n",
    "### Step 2.1: Apply Feature Scaling\n",
    "\n",
    "Before we apply dimensionality reduction techniques to the data, we need to perform feature scaling so that the principal component vectors are not influenced by the natural differences in scale for features. Starting from this part of the project, you'll want to keep an eye on the [API reference page for sklearn](http://scikit-learn.org/stable/modules/classes.html) to help you navigate to all of the classes and functions that you'll need. In this substep, you'll need to check the following:\n",
    "\n",
    "- sklearn requires that data not have missing values in order for its estimators to work properly. So, before applying the scaler to your data, make sure that you've cleaned the DataFrame of the remaining missing values. This can be as simple as just removing all data points with missing data, or applying an [Imputer](http://scikit-learn.org/stable/modules/generated/sklearn.preprocessing.Imputer.html) to replace all missing values. You might also try a more complicated procedure where you temporarily remove missing values in order to compute the scaling parameters before re-introducing those missing values and applying imputation. Think about how much missing data you have and what possible effects each approach might have on your analysis, and justify your decision in the discussion section below.\n",
    "- For the actual scaling function, a [StandardScaler](http://scikit-learn.org/stable/modules/generated/sklearn.preprocessing.StandardScaler.html) instance is suggested, scaling each feature to mean 0 and standard deviation 1.\n",
    "- For these classes, you can make use of the `.fit_transform()` method to both fit a procedure to the data as well as apply the transformation to the data at the same time. Don't forget to keep the fit sklearn objects handy, since you'll be applying them to the customer demographics data towards the end of the project."
   ]
  },
  {
   "cell_type": "code",
   "execution_count": 48,
   "metadata": {},
   "outputs": [
    {
     "name": "stdout",
     "output_type": "stream",
     "text": [
      "477018\n"
     ]
    }
   ],
   "source": [
    "# If you've not yet cleaned the dataset of all NaN values, then investigate and\n",
    "# do that now.\n",
    "\n",
    "print(dummy_df.isna().sum().sum())"
   ]
  },
  {
   "cell_type": "code",
   "execution_count": 49,
   "metadata": {},
   "outputs": [],
   "source": [
    "#filling missing values with the mode\n",
    "for col in dummy_df.columns:\n",
    "    dummy_df[col] = dummy_df[col].fillna(dummy_df[col].mode()[0])"
   ]
  },
  {
   "cell_type": "code",
   "execution_count": 50,
   "metadata": {},
   "outputs": [
    {
     "name": "stdout",
     "output_type": "stream",
     "text": [
      "0\n"
     ]
    }
   ],
   "source": [
    "print(dummy_df.isna().sum().sum())"
   ]
  },
  {
   "cell_type": "code",
   "execution_count": 51,
   "metadata": {},
   "outputs": [],
   "source": [
    "# Apply feature scaling to the general population demographics data.\n",
    "normalizer = StandardScaler()\n",
    "dummy_df[dummy_df.columns] = normalizer.fit_transform(dummy_df[dummy_df.columns.values])\n"
   ]
  },
  {
   "cell_type": "markdown",
   "metadata": {},
   "source": [
    "### Discussion 2.1: Apply Feature Scaling\n",
    "\n",
    "The NaNs were replaced with the mode of each column. For non-numeric featuers this is a reasonable method. For numeric features, using the average or median can be a good alternative.\n"
   ]
  },
  {
   "cell_type": "markdown",
   "metadata": {},
   "source": [
    "### Step 2.2: Perform Dimensionality Reduction\n",
    "\n",
    "On your scaled data, you are now ready to apply dimensionality reduction techniques.\n",
    "\n",
    "- Use sklearn's [PCA](http://scikit-learn.org/stable/modules/generated/sklearn.decomposition.PCA.html) class to apply principal component analysis on the data, thus finding the vectors of maximal variance in the data. To start, you should not set any parameters (so all components are computed) or set a number of components that is at least half the number of features (so there's enough features to see the general trend in variability).\n",
    "- Check out the ratio of variance explained by each principal component as well as the cumulative variance explained. Try plotting the cumulative or sequential values using matplotlib's [`plot()`](https://matplotlib.org/api/_as_gen/matplotlib.pyplot.plot.html) function. Based on what you find, select a value for the number of transformed features you'll retain for the clustering part of the project.\n",
    "- Once you've made a choice for the number of components to keep, make sure you re-fit a PCA instance to perform the decided-on transformation."
   ]
  },
  {
   "cell_type": "code",
   "execution_count": 52,
   "metadata": {},
   "outputs": [],
   "source": [
    "# Apply PCA to the data.\n",
    "\n",
    "pca = PCA()\n",
    "dummy_df_pca = pca.fit_transform(dummy_df)"
   ]
  },
  {
   "cell_type": "code",
   "execution_count": 53,
   "metadata": {},
   "outputs": [],
   "source": [
    "def scree_plot(pca):\n",
    "    \n",
    "    num_components = len(pca.explained_variance_ratio_)\n",
    "    ind = np.arange(num_components)\n",
    "    vals = pca.explained_variance_ratio_\n",
    " \n",
    "    plt.figure(figsize=(10, 6))\n",
    "    ax = plt.subplot(111)\n",
    "    cumvals = np.cumsum(vals)\n",
    "    ax.bar(ind, vals)\n",
    "    ax.plot(ind, cumvals)\n",
    "    \n",
    "    ax.xaxis.set_tick_params(width=0)\n",
    "    ax.yaxis.set_tick_params(width=2, length=12)\n",
    " \n",
    "    ax.set_xlabel(\"Principal Component\")\n",
    "    ax.set_ylabel(\"Variance Explained (%)\")\n",
    "    plt.title('Explained Variance Per Principal Component')"
   ]
  },
  {
   "cell_type": "code",
   "execution_count": 54,
   "metadata": {},
   "outputs": [
    {
     "data": {
      "image/png": "[encoded data removed]",
      "text/plain": [
       "<matplotlib.figure.Figure at 0x7f9ce0e2a860>"
      ]
     },
     "metadata": {
      "needs_background": "light"
     },
     "output_type": "display_data"
    }
   ],
   "source": [
    "# Investigate the variance accounted for by each principal component.\n",
    "scree_plot(pca)\n"
   ]
  },
  {
   "cell_type": "code",
   "execution_count": 55,
   "metadata": {},
   "outputs": [],
   "source": [
    "# Re-apply PCA to the data while selecting for number of components to retain.\n",
    "\n",
    "pca = PCA(n_components=50)\n",
    "dummy_df_pca = pca.fit_transform(dummy_df)"
   ]
  },
  {
   "cell_type": "markdown",
   "metadata": {},
   "source": [
    "### Discussion 2.2: Perform Dimensionality Reduction\n",
    "\n",
    "There is no clear-cut number of principal components but after 50, the amount added variance is reduced to a very low value. pca is re-done with 50 components. As the plot above shows, with 50 components, more than 95% of variance in data is explained"
   ]
  },
  {
   "cell_type": "markdown",
   "metadata": {},
   "source": [
    "### Step 2.3: Interpret Principal Components\n",
    "\n",
    "Now that we have our transformed principal components, it's a nice idea to check out the weight of each variable on the first few components to see if they can be interpreted in some fashion.\n",
    "\n",
    "As a reminder, each principal component is a unit vector that points in the direction of highest variance (after accounting for the variance captured by earlier principal components). The further a weight is from zero, the more the principal component is in the direction of the corresponding feature. If two features have large weights of the same sign (both positive or both negative), then increases in one tend expect to be associated with increases in the other. To contrast, features with different signs can be expected to show a negative correlation: increases in one variable should result in a decrease in the other.\n",
    "\n",
    "- To investigate the features, you should map each weight to their corresponding feature name, then sort the features according to weight. The most interesting features for each principal component, then, will be those at the beginning and end of the sorted list. Use the data dictionary document to help you understand these most prominent features, their relationships, and what a positive or negative value on the principal component might indicate.\n",
    "- You should investigate and interpret feature associations from the first three principal components in this substep. To help facilitate this, you should write a function that you can call at any time to print the sorted list of feature weights, for the *i*-th principal component. This might come in handy in the next step of the project, when you interpret the tendencies of the discovered clusters."
   ]
  },
  {
   "cell_type": "code",
   "execution_count": 56,
   "metadata": {},
   "outputs": [],
   "source": [
    "def pca_weights(pca, i):\n",
    "    weight_map = {}\n",
    "    for counter, feature in enumerate(dummy_df.columns):\n",
    "        weight_map[feature] = pca.components_[i][counter]\n",
    "    \n",
    "    sorted_weights = sorted(weight_map.items(), key=operator.itemgetter(1), reverse=True)\n",
    "    \n",
    "    return sorted_weights"
   ]
  },
  {
   "cell_type": "code",
   "execution_count": 57,
   "metadata": {},
   "outputs": [
    {
     "name": "stdout",
     "output_type": "stream",
     "text": [
      "[('ALTERSKATEGORIE_GROB', 0.2569977003739779),\n",
      " ('SEMIO_ERL', 0.23019594311978586),\n",
      " ('FINANZ_VORSORGER', 0.22926059533044921),\n",
      " ('SEMIO_LUST', 0.17974049619418689),\n",
      " ('RETOURTYP_BK_S', 0.16327890448325047),\n",
      " ('FINANZ_HAUSBAUER', 0.11973582043761562),\n",
      " ('SEMIO_KRIT', 0.11858579795417286),\n",
      " ('SEMIO_KAEM', 0.11558147914052624),\n",
      " ('W_KEIT_KIND_HH', 0.11403712064250718),\n",
      " ('PLZ8_ANTG3', 0.099452890040966316),\n",
      " ('EWDICHTE', 0.096684012084170351),\n",
      " ('ORTSGR_KLS9', 0.095494062336654528),\n",
      " ('PLZ8_ANTG4', 0.09428458381730552),\n",
      " ('ANREDE_KZ', 0.092951430687705061),\n",
      " ('wealth', 0.078335211871806545),\n",
      " ('KBA05_ANTG4', 0.07418489981071745),\n",
      " ('SEMIO_DOM', 0.072489115168161269),\n",
      " ('ARBEIT', 0.070539882955037631),\n",
      " ('PLZ8_ANTG2', 0.06852505073121716),\n",
      " ('RELAT_AB', 0.068148042092862848),\n",
      " ('ANZ_HAUSHALTE_AKTIV', 0.0652374188731705),\n",
      " ('FINANZ_MINIMALIST', 0.06116120296326466),\n",
      " ('HH_EINKOMMEN_SCORE', 0.059060039613459681),\n",
      " ('WOHNDAUER_2008', 0.057253586909278203),\n",
      " ('KBA05_ANTG3', 0.049070456111944723),\n",
      " ('ANZ_HH_TITEL', 0.031776504946976467),\n",
      " ('movement', 0.017651624962822559),\n",
      " ('PLZ8_HHZ', 0.014017080058379719),\n",
      " ('REGIOTYP', 0.013504202250760234),\n",
      " ('ANZ_TITEL', 0.0068432113978425324),\n",
      " ('KKK', 0.0010255243108695244),\n",
      " ('life_stage', -0.0013475152285303757),\n",
      " ('SOHO_KZ', -0.0020670834528637477),\n",
      " ('KBA05_ANTG2', -0.0043600980758864444),\n",
      " ('GREEN_AVANTGARDE', -0.017651624962822566),\n",
      " ('OST_WEST_KZ', -0.027332606271744355),\n",
      " ('KBA13_ANZAHL_PKW', -0.036011835848708089),\n",
      " ('GEBAEUDETYP_RASTER', -0.046188632769827355),\n",
      " ('MIN_GEBAEUDEJAHR', -0.046797832858027577),\n",
      " ('HEALTH_TYP', -0.0587424765437368),\n",
      " ('BALLRAUM', -0.064132443454068308),\n",
      " ('ANZ_PERSONEN', -0.064892822270798164),\n",
      " ('SEMIO_VERT', -0.071674571028200823),\n",
      " ('KONSUMNAEHE', -0.073284122125595916),\n",
      " ('PLZ8_GBZ', -0.0762095410625033),\n",
      " ('KBA05_ANTG1', -0.078122674233375031),\n",
      " ('INNENSTADT', -0.078815714563264902),\n",
      " ('MOBI_REGIO', -0.085950513470024636),\n",
      " ('KBA05_GBZ', -0.09276526948770214),\n",
      " ('PLZ8_ANTG1', -0.096942932868356188),\n",
      " ('SEMIO_SOZ', -0.10373281339303256),\n",
      " ('SEMIO_MAT', -0.15997465015606921),\n",
      " ('ONLINE_AFFINITAET', -0.16535626031443479),\n",
      " ('SEMIO_RAT', -0.16748503622426186),\n",
      " ('SEMIO_FAM', -0.18355639231286713),\n",
      " ('FINANZ_ANLEGER', -0.20360959965734898),\n",
      " ('SEMIO_KULT', -0.22044304566635031),\n",
      " ('FINANZ_UNAUFFAELLIGER', -0.22532578872863671),\n",
      " ('SEMIO_PFLICHT', -0.22716147096038516),\n",
      " ('SEMIO_TRADV', -0.22835020580599844),\n",
      " ('FINANZ_SPARER', -0.23225025453460324),\n",
      " ('decade', -0.23944306101361304),\n",
      " ('SEMIO_REL', -0.25470244956603072)]\n"
     ]
    }
   ],
   "source": [
    "# Map weights for the first principal component to corresponding feature names\n",
    "# and then print the linked values, sorted by weight.\n",
    "\n",
    "weights = pca_weights(pca,1)\n",
    "\n",
    "pprint.pprint(weights)"
   ]
  },
  {
   "cell_type": "code",
   "execution_count": 58,
   "metadata": {},
   "outputs": [
    {
     "name": "stdout",
     "output_type": "stream",
     "text": [
      "[('SEMIO_VERT', 0.34598447456372827),\n",
      " ('SEMIO_SOZ', 0.26281088357812477),\n",
      " ('SEMIO_FAM', 0.24916411349690584),\n",
      " ('SEMIO_KULT', 0.23286027223780664),\n",
      " ('FINANZ_MINIMALIST', 0.15537690170049112),\n",
      " ('RETOURTYP_BK_S', 0.10988470695457389),\n",
      " ('FINANZ_VORSORGER', 0.10098733284992781),\n",
      " ('W_KEIT_KIND_HH', 0.085352594503167803),\n",
      " ('ALTERSKATEGORIE_GROB', 0.07967733059541271),\n",
      " ('SEMIO_REL', 0.068735062307248546),\n",
      " ('SEMIO_LUST', 0.064431495008019188),\n",
      " ('SEMIO_MAT', 0.055114503769080676),\n",
      " ('ORTSGR_KLS9', 0.049877820249686067),\n",
      " ('EWDICHTE', 0.049192528452917716),\n",
      " ('PLZ8_ANTG3', 0.048504392032396905),\n",
      " ('GREEN_AVANTGARDE', 0.048453878018403805),\n",
      " ('PLZ8_ANTG4', 0.048247589666970257),\n",
      " ('ARBEIT', 0.036402468840539916),\n",
      " ('RELAT_AB', 0.033589760942171663),\n",
      " ('PLZ8_ANTG2', 0.032611173190679625),\n",
      " ('WOHNDAUER_2008', 0.032372231352052409),\n",
      " ('KBA05_ANTG4', 0.029393078878916672),\n",
      " ('wealth', 0.029106967872032024),\n",
      " ('ANZ_HAUSHALTE_AKTIV', 0.026304700519432952),\n",
      " ('ANZ_HH_TITEL', 0.013707346657298029),\n",
      " ('KBA05_ANTG3', 0.010684898319623213),\n",
      " ('ANZ_TITEL', 0.0097682652515981815),\n",
      " ('PLZ8_HHZ', 0.004842600753617872),\n",
      " ('SOHO_KZ', 0.00022672692745468725),\n",
      " ('REGIOTYP', -0.0071242990046580836),\n",
      " ('KBA05_ANTG2', -0.0083005238610887218),\n",
      " ('life_stage', -0.0099283145197268038),\n",
      " ('ANZ_PERSONEN', -0.010658360329020849),\n",
      " ('KKK', -0.015745357148022065),\n",
      " ('OST_WEST_KZ', -0.015777003777298515),\n",
      " ('MIN_GEBAEUDEJAHR', -0.016866572526248333),\n",
      " ('HH_EINKOMMEN_SCORE', -0.018404030533523682),\n",
      " ('KBA05_ANTG1', -0.02313932842678449),\n",
      " ('KBA13_ANZAHL_PKW', -0.023180102387578193),\n",
      " ('MOBI_REGIO', -0.028538346155841415),\n",
      " ('KBA05_GBZ', -0.028775612673713893),\n",
      " ('HEALTH_TYP', -0.030070021343094815),\n",
      " ('GEBAEUDETYP_RASTER', -0.031646488334214531),\n",
      " ('BALLRAUM', -0.037097166277827796),\n",
      " ('KONSUMNAEHE', -0.04005542606223151),\n",
      " ('PLZ8_GBZ', -0.040773692957905325),\n",
      " ('FINANZ_HAUSBAUER', -0.042565745538797224),\n",
      " ('INNENSTADT', -0.045578260701368091),\n",
      " ('movement', -0.048453878018403736),\n",
      " ('PLZ8_ANTG1', -0.049302900226327398),\n",
      " ('ONLINE_AFFINITAET', -0.05534898481786904),\n",
      " ('SEMIO_TRADV', -0.079230651712393171),\n",
      " ('SEMIO_PFLICHT', -0.08030924385409148),\n",
      " ('FINANZ_UNAUFFAELLIGER', -0.099831407568430564),\n",
      " ('FINANZ_SPARER', -0.10642294319042522),\n",
      " ('decade', -0.11098485662920164),\n",
      " ('SEMIO_ERL', -0.17422083890256013),\n",
      " ('FINANZ_ANLEGER', -0.19049731992858462),\n",
      " ('SEMIO_RAT', -0.21733328642614044),\n",
      " ('SEMIO_KRIT', -0.27344712833534107),\n",
      " ('SEMIO_DOM', -0.31313477620983859),\n",
      " ('SEMIO_KAEM', -0.33588848608339833),\n",
      " ('ANREDE_KZ', -0.36786370747095498)]\n"
     ]
    }
   ],
   "source": [
    "# Map weights for the second principal component to corresponding feature names\n",
    "# and then print the linked values, sorted by weight.\n",
    "\n",
    "weights = pca_weights(pca,2)\n",
    "\n",
    "pprint.pprint(weights)"
   ]
  },
  {
   "cell_type": "code",
   "execution_count": 59,
   "metadata": {},
   "outputs": [
    {
     "name": "stdout",
     "output_type": "stream",
     "text": [
      "[('GREEN_AVANTGARDE', 0.39894880625919688),\n",
      " ('EWDICHTE', 0.26020134676201356),\n",
      " ('ORTSGR_KLS9', 0.24712135871697041),\n",
      " ('PLZ8_HHZ', 0.13727746557925866),\n",
      " ('ONLINE_AFFINITAET', 0.13660636082354141),\n",
      " ('SEMIO_DOM', 0.11546130568343418),\n",
      " ('OST_WEST_KZ', 0.1116016073861163),\n",
      " ('PLZ8_ANTG2', 0.10836026928480895),\n",
      " ('ANZ_PERSONEN', 0.10213790858728854),\n",
      " ('PLZ8_ANTG3', 0.10083540938135832),\n",
      " ('KBA05_ANTG1', 0.10015205377781668),\n",
      " ('RELAT_AB', 0.095516862398979982),\n",
      " ('FINANZ_UNAUFFAELLIGER', 0.081468593907587622),\n",
      " ('PLZ8_ANTG4', 0.080982669043037719),\n",
      " ('SEMIO_KAEM', 0.077763042216655462),\n",
      " ('MOBI_REGIO', 0.068136466786048414),\n",
      " ('SEMIO_TRADV', 0.06332677053173498),\n",
      " ('FINANZ_MINIMALIST', 0.062256642530379991),\n",
      " ('life_stage', 0.060595789623899173),\n",
      " ('SEMIO_RAT', 0.055780694852303553),\n",
      " ('KBA05_GBZ', 0.055723367103851867),\n",
      " ('ARBEIT', 0.051233247640538895),\n",
      " ('ANZ_TITEL', 0.048918129991212332),\n",
      " ('KBA13_ANZAHL_PKW', 0.047818855335864406),\n",
      " ('ANREDE_KZ', 0.038713047241543411),\n",
      " ('ANZ_HH_TITEL', 0.036488309083599874),\n",
      " ('PLZ8_GBZ', 0.034560208946504169),\n",
      " ('decade', 0.030796680973240471),\n",
      " ('SEMIO_PFLICHT', 0.019959958044084972),\n",
      " ('SEMIO_MAT', 0.019689284782724793),\n",
      " ('SEMIO_KRIT', 0.013128898401300869),\n",
      " ('KBA05_ANTG2', 0.010095180035139985),\n",
      " ('WOHNDAUER_2008', 0.0098480686756313926),\n",
      " ('SEMIO_SOZ', 0.0040659468293639221),\n",
      " ('HEALTH_TYP', 0.0026195505982771917),\n",
      " ('SOHO_KZ', 0.0021962741962387499),\n",
      " ('RETOURTYP_BK_S', 0.0011315899251565348),\n",
      " ('SEMIO_LUST', 0.00043030149122155037),\n",
      " ('FINANZ_SPARER', -0.0018624761907295451),\n",
      " ('SEMIO_REL', -0.0020985041480041369),\n",
      " ('FINANZ_VORSORGER', -0.018190394086710721),\n",
      " ('SEMIO_VERT', -0.018229288045921214),\n",
      " ('SEMIO_FAM', -0.020614220227270687),\n",
      " ('SEMIO_ERL', -0.025806837080756935),\n",
      " ('ANZ_HAUSHALTE_AKTIV', -0.029781260336144415),\n",
      " ('KBA05_ANTG4', -0.032727364769262239),\n",
      " ('SEMIO_KULT', -0.03300880042485646),\n",
      " ('ALTERSKATEGORIE_GROB', -0.046526372333686325),\n",
      " ('PLZ8_ANTG1', -0.050374010349372361),\n",
      " ('MIN_GEBAEUDEJAHR', -0.054397212967825744),\n",
      " ('KBA05_ANTG3', -0.071912120017533693),\n",
      " ('GEBAEUDETYP_RASTER', -0.08774895861401584),\n",
      " ('W_KEIT_KIND_HH', -0.094719621977014945),\n",
      " ('FINANZ_HAUSBAUER', -0.10267637062735852),\n",
      " ('wealth', -0.12263249043420246),\n",
      " ('FINANZ_ANLEGER', -0.12345475095128323),\n",
      " ('KONSUMNAEHE', -0.1507778622844354),\n",
      " ('REGIOTYP', -0.21771078505244121),\n",
      " ('INNENSTADT', -0.21873747273098476),\n",
      " ('BALLRAUM', -0.23362598034221441),\n",
      " ('HH_EINKOMMEN_SCORE', -0.24357689236208982),\n",
      " ('KKK', -0.27562392501281846),\n",
      " ('movement', -0.39894880625919688)]\n"
     ]
    }
   ],
   "source": [
    "# Map weights for the third principal component to corresponding feature names\n",
    "# and then print the linked values, sorted by weight.\n",
    "\n",
    "weights = pca_weights(pca,3)\n",
    "\n",
    "pprint.pprint(weights)"
   ]
  },
  {
   "cell_type": "markdown",
   "metadata": {},
   "source": [
    "### Discussion 2.3: Interpret Principal Components\n",
    "\n",
    "One can observe some patterns and relationships between different principle components here. e.g. in first PC decade has an in verse relationship with ALTERSKATEGORIE_GROB, namely if decade value is higher, the person is younger. same can be said when ALTERSKATEGORIE_GROB is lower.\n",
    "\n",
    "PC2 is quite interesting; it's all about personality type. it shows that dominant, investor type and competitive people have a big negative weight while socially minded, family oriented people are on the other side of the spectrum. It's also very interesting that gender is one of the features with big negative weight. not really the scope of this study but maybe this indicated that men are more dominant and competitive type.\n",
    "\n",
    "PC3 is about community demographic. density of households per sqkm,  size of community have high positive weight and purchasing power, net income and neighbourhood topology have high negative weights. so it's all about the class the person belongs to\n",
    "\n"
   ]
  },
  {
   "cell_type": "markdown",
   "metadata": {},
   "source": [
    "## Step 3: Clustering\n",
    "\n",
    "### Step 3.1: Apply Clustering to General Population\n",
    "\n",
    "You've assessed and cleaned the demographics data, then scaled and transformed them. Now, it's time to see how the data clusters in the principal components space. In this substep, you will apply k-means clustering to the dataset and use the average within-cluster distances from each point to their assigned cluster's centroid to decide on a number of clusters to keep.\n",
    "\n",
    "- Use sklearn's [KMeans](http://scikit-learn.org/stable/modules/generated/sklearn.cluster.KMeans.html#sklearn.cluster.KMeans) class to perform k-means clustering on the PCA-transformed data.\n",
    "- Then, compute the average difference from each point to its assigned cluster's center. **Hint**: The KMeans object's `.score()` method might be useful here, but note that in sklearn, scores tend to be defined so that larger is better. Try applying it to a small, toy dataset, or use an internet search to help your understanding.\n",
    "- Perform the above two steps for a number of different cluster counts. You can then see how the average distance decreases with an increasing number of clusters. However, each additional cluster provides a smaller net benefit. Use this fact to select a final number of clusters in which to group the data. **Warning**: because of the large size of the dataset, it can take a long time for the algorithm to resolve. The more clusters to fit, the longer the algorithm will take. You should test for cluster counts through at least 10 clusters to get the full picture, but you shouldn't need to test for a number of clusters above about 30.\n",
    "- Once you've selected a final number of clusters to use, re-fit a KMeans instance to perform the clustering operation. Make sure that you also obtain the cluster assignments for the general demographics data, since you'll be using them in the final Step 3.3."
   ]
  },
  {
   "cell_type": "code",
   "execution_count": 60,
   "metadata": {},
   "outputs": [],
   "source": [
    "def get_kmeans_score(data, center):\n",
    "    '''\n",
    "    returns the kmeans score regarding SSE for points to centers\n",
    "    INPUT:\n",
    "        data - the dataset you want to fit kmeans to\n",
    "        center - the number of centers you want (the k value)\n",
    "    OUTPUT:\n",
    "        score - the SSE score for the kmeans model fit to the data\n",
    "    '''\n",
    "    #instantiate kmeans\n",
    "    kmeans = KMeans(n_clusters=center)\n",
    "\n",
    "    # Then fit the model to your data using the fit method\n",
    "    model = kmeans.fit(data)\n",
    "    \n",
    "    # Obtain a score related to the model fit\n",
    "    score = np.abs(model.score(data))\n",
    "    \n",
    "    return score"
   ]
  },
  {
   "cell_type": "code",
   "execution_count": 61,
   "metadata": {},
   "outputs": [],
   "source": [
    "# Over a number of different cluster counts...\n",
    "\n",
    "scores = []\n",
    "centers = list(range(1,30,2))\n",
    "\n",
    "for center in centers:\n",
    "    scores.append(get_kmeans_score(dummy_df_pca, center))\n",
    "    "
   ]
  },
  {
   "cell_type": "code",
   "execution_count": 62,
   "metadata": {},
   "outputs": [
    {
     "data": {
      "image/png": "[encoded data removed]",
      "text/plain": [
       "<matplotlib.figure.Figure at 0x7f9ce0ea3c50>"
      ]
     },
     "metadata": {
      "needs_background": "light"
     },
     "output_type": "display_data"
    }
   ],
   "source": [
    "# Investigate the change in within-cluster distance across number of clusters.\n",
    "# HINT: Use matplotlib's plot function to visualize this relationship.\n",
    "\n",
    "plt.plot(centers, scores)\n",
    "plt.xlabel('K')\n",
    "plt.ylabel('SSE')\n",
    "plt.show()"
   ]
  },
  {
   "cell_type": "code",
   "execution_count": 63,
   "metadata": {},
   "outputs": [],
   "source": [
    "# Re-fit the k-means model with the selected number of clusters and obtain\n",
    "# cluster predictions for the general population demographics data.\n",
    "\n",
    "kmeans = KMeans(n_clusters=20)\n",
    "model = kmeans.fit(dummy_df_pca)"
   ]
  },
  {
   "cell_type": "code",
   "execution_count": 64,
   "metadata": {},
   "outputs": [],
   "source": [
    "predict_general = model.predict(dummy_df_pca)"
   ]
  },
  {
   "cell_type": "markdown",
   "metadata": {},
   "source": [
    "### Discussion 3.1: Apply Clustering to General Population\n",
    "\n",
    "again, we are facing a judgement call, as there is no clear elbow here. \n",
    "there is a trade-off between processing time and kmeans score. The plot doesn't have a huge slope near the end, so n_clusters=20 is chosen for a reasonable score and better processing time"
   ]
  },
  {
   "cell_type": "markdown",
   "metadata": {},
   "source": [
    "### Step 3.2: Apply All Steps to the Customer Data\n",
    "\n",
    "Now that you have clusters and cluster centers for the general population, it's time to see how the customer data maps on to those clusters. Take care to not confuse this for re-fitting all of the models to the customer data. Instead, you're going to use the fits from the general population to clean, transform, and cluster the customer data. In the last step of the project, you will interpret how the general population fits apply to the customer data.\n",
    "\n",
    "- Don't forget when loading in the customers data, that it is semicolon (`;`) delimited.\n",
    "- Apply the same feature wrangling, selection, and engineering steps to the customer demographics using the `clean_data()` function you created earlier. (You can assume that the customer demographics data has similar meaning behind missing data patterns as the general demographics data.)\n",
    "- Use the sklearn objects from the general demographics data, and apply their transformations to the customers data. That is, you should not be using a `.fit()` or `.fit_transform()` method to re-fit the old objects, nor should you be creating new sklearn objects! Carry the data through the feature scaling, PCA, and clustering steps, obtaining cluster assignments for all of the data in the customer demographics data."
   ]
  },
  {
   "cell_type": "code",
   "execution_count": 65,
   "metadata": {},
   "outputs": [],
   "source": [
    "# Load in the customer demographics data.\n",
    "customers = pd.read_csv('Udacity_CUSTOMERS_Subset.csv', delimiter=';')"
   ]
  },
  {
   "cell_type": "code",
   "execution_count": 66,
   "metadata": {},
   "outputs": [
    {
     "data": {
      "text/plain": [
       "(191652, 85)"
      ]
     },
     "execution_count": 66,
     "metadata": {},
     "output_type": "execute_result"
    }
   ],
   "source": [
    "customers.shape"
   ]
  },
  {
   "cell_type": "code",
   "execution_count": 67,
   "metadata": {},
   "outputs": [],
   "source": [
    "high_missing_customers = customers[customers.isnull().sum(axis=1) >=10]"
   ]
  },
  {
   "cell_type": "code",
   "execution_count": 68,
   "metadata": {},
   "outputs": [
    {
     "data": {
      "text/plain": [
       "(55734, 85)"
      ]
     },
     "execution_count": 68,
     "metadata": {},
     "output_type": "execute_result"
    }
   ],
   "source": [
    "high_missing_customers.shape"
   ]
  },
  {
   "cell_type": "code",
   "execution_count": 74,
   "metadata": {},
   "outputs": [
    {
     "name": "stdout",
     "output_type": "stream",
     "text": [
      "take a coffee break...\n"
     ]
    }
   ],
   "source": [
    "# Apply preprocessing, feature transformation, and clustering from the general\n",
    "# demographics onto the customer data, obtaining cluster predictions for the\n",
    "# customer demographics data.\n",
    "init_time = time.time()\n",
    "print('take a coffee break...')\n",
    "customers_clean = clean_data(customers)\n",
    "\n",
    "\n",
    "\n",
    "# since this step was taking too much time, I saved a csv file with the parsed data. the function tries to load that first and if \n",
    "# it doesn't exist, it will parse the data from the top"
   ]
  },
  {
   "cell_type": "code",
   "execution_count": 75,
   "metadata": {},
   "outputs": [],
   "source": [
    "customers_clean.to_csv('customers_clean.csv')"
   ]
  },
  {
   "cell_type": "code",
   "execution_count": 76,
   "metadata": {},
   "outputs": [],
   "source": [
    "for column in dummy_df.columns.values:\n",
    "    if column not in customers_clean.columns.values:\n",
    "        print(column,'missing from customers df')\n",
    "        \n",
    "for column in customers_clean.columns.values:\n",
    "    if column not in dummy_df.columns.values:\n",
    "        customers_clean.drop(column,axis=1,inplace=True)"
   ]
  },
  {
   "cell_type": "code",
   "execution_count": 77,
   "metadata": {},
   "outputs": [
    {
     "data": {
      "text/plain": [
       "(63,)"
      ]
     },
     "execution_count": 77,
     "metadata": {},
     "output_type": "execute_result"
    }
   ],
   "source": [
    "dummy_df.columns.shape"
   ]
  },
  {
   "cell_type": "code",
   "execution_count": 78,
   "metadata": {},
   "outputs": [
    {
     "data": {
      "text/plain": [
       "(63,)"
      ]
     },
     "execution_count": 78,
     "metadata": {},
     "output_type": "execute_result"
    }
   ],
   "source": [
    "customers_clean.columns.shape"
   ]
  },
  {
   "cell_type": "code",
   "execution_count": 79,
   "metadata": {},
   "outputs": [],
   "source": [
    "#normalization using StandardScaler\n",
    "customers_clean[customers_clean.columns] = normalizer.transform(customers_clean[customers_clean.columns.values])\n",
    "#transform the customers data using pca object\n",
    "customers_clean_pca = pca.transform(customers_clean)\n",
    "#predict clustering using the kmeans object\n",
    "predict_customers = model.predict(customers_clean_pca)"
   ]
  },
  {
   "cell_type": "markdown",
   "metadata": {},
   "source": [
    "### Step 3.3: Compare Customer Data to Demographics Data\n",
    "\n",
    "At this point, you have clustered data based on demographics of the general population of Germany, and seen how the customer data for a mail-order sales company maps onto those demographic clusters. In this final substep, you will compare the two cluster distributions to see where the strongest customer base for the company is.\n",
    "\n",
    "Consider the proportion of persons in each cluster for the general population, and the proportions for the customers. If we think the company's customer base to be universal, then the cluster assignment proportions should be fairly similar between the two. If there are only particular segments of the population that are interested in the company's products, then we should see a mismatch from one to the other. If there is a higher proportion of persons in a cluster for the customer data compared to the general population (e.g. 5% of persons are assigned to a cluster for the general population, but 15% of the customer data is closest to that cluster's centroid) then that suggests the people in that cluster to be a target audience for the company. On the other hand, the proportion of the data in a cluster being larger in the general population than the customer data (e.g. only 2% of customers closest to a population centroid that captures 6% of the data) suggests that group of persons to be outside of the target demographics.\n",
    "\n",
    "Take a look at the following points in this step:\n",
    "\n",
    "- Compute the proportion of data points in each cluster for the general population and the customer data. Visualizations will be useful here: both for the individual dataset proportions, but also to visualize the ratios in cluster representation between groups. Seaborn's [`countplot()`](https://seaborn.pydata.org/generated/seaborn.countplot.html) or [`barplot()`](https://seaborn.pydata.org/generated/seaborn.barplot.html) function could be handy.\n",
    "  - Recall the analysis you performed in step 1.1.3 of the project, where you separated out certain data points from the dataset if they had more than a specified threshold of missing values. If you found that this group was qualitatively different from the main bulk of the data, you should treat this as an additional data cluster in this analysis. Make sure that you account for the number of data points in this subset, for both the general population and customer datasets, when making your computations!\n",
    "- Which cluster or clusters are overrepresented in the customer dataset compared to the general population? Select at least one such cluster and infer what kind of people might be represented by that cluster. Use the principal component interpretations from step 2.3 or look at additional components to help you make this inference. Alternatively, you can use the `.inverse_transform()` method of the PCA and StandardScaler objects to transform centroids back to the original data space and interpret the retrieved values directly.\n",
    "- Perform a similar investigation for the underrepresented clusters. Which cluster or clusters are underrepresented in the customer dataset compared to the general population, and what kinds of people are typified by these clusters?"
   ]
  },
  {
   "cell_type": "code",
   "execution_count": 80,
   "metadata": {},
   "outputs": [
    {
     "data": {
      "text/plain": [
       "4345086"
      ]
     },
     "execution_count": 80,
     "metadata": {},
     "output_type": "execute_result"
    }
   ],
   "source": [
    "high_missing_rows.isna().sum().sum()"
   ]
  },
  {
   "cell_type": "code",
   "execution_count": 81,
   "metadata": {},
   "outputs": [
    {
     "data": {
      "text/plain": [
       "(116478, 79)"
      ]
     },
     "execution_count": 81,
     "metadata": {},
     "output_type": "execute_result"
    }
   ],
   "source": [
    "high_missing_rows.shape"
   ]
  },
  {
   "cell_type": "code",
   "execution_count": 82,
   "metadata": {},
   "outputs": [
    {
     "data": {
      "text/plain": [
       "<matplotlib.axes._subplots.AxesSubplot at 0x7f9ce02cde10>"
      ]
     },
     "execution_count": 82,
     "metadata": {},
     "output_type": "execute_result"
    },
    {
     "data": {
      "image/png": "[encoded data removed]",
      "text/plain": [
       "<matplotlib.figure.Figure at 0x7f9ce02c0f28>"
      ]
     },
     "metadata": {
      "needs_background": "light"
     },
     "output_type": "display_data"
    }
   ],
   "source": [
    "# Distribution of genaral population\n",
    "labels1=pd.DataFrame(predict_general)\n",
    "labels1.columns=['cluster']\n",
    "\n",
    "# cluster -1 includes those rows having too many NAs\n",
    "labels2=pd.DataFrame(-1*np.ones([high_missing_rows.shape[0],1]))\n",
    "labels2.columns=['cluster']\n",
    "\n",
    "labels=pd.concat([labels1,labels2],axis=0)\n",
    "\n",
    "sns.countplot( x='cluster',data=labels)"
   ]
  },
  {
   "cell_type": "code",
   "execution_count": 83,
   "metadata": {},
   "outputs": [
    {
     "data": {
      "text/plain": [
       "<matplotlib.axes._subplots.AxesSubplot at 0x7f9ce02b6e80>"
      ]
     },
     "execution_count": 83,
     "metadata": {},
     "output_type": "execute_result"
    },
    {
     "data": {
      "image/png": "[encoded data removed]",
      "text/plain": [
       "<matplotlib.figure.Figure at 0x7f9cb0bd1a90>"
      ]
     },
     "metadata": {
      "needs_background": "light"
     },
     "output_type": "display_data"
    }
   ],
   "source": [
    "# Distribution of customer data\n",
    "labels2=pd.DataFrame(predict_customers)\n",
    "labels2.columns=['cluster']\n",
    "\n",
    "# cluster -1 includes those rows having too many NAs\n",
    "labels3=pd.DataFrame(-1*np.ones([high_missing_customers.shape[0],1]))\n",
    "labels3.columns=['cluster']\n",
    "\n",
    "labels4=pd.concat([labels2,labels3],axis=0)\n",
    "sns.countplot( x='cluster',data=labels4)"
   ]
  },
  {
   "cell_type": "code",
   "execution_count": 84,
   "metadata": {},
   "outputs": [
    {
     "data": {
      "text/html": [
       "<div>\n",
       "<style scoped>\n",
       "    .dataframe tbody tr th:only-of-type {\n",
       "        vertical-align: middle;\n",
       "    }\n",
       "\n",
       "    .dataframe tbody tr th {\n",
       "        vertical-align: top;\n",
       "    }\n",
       "\n",
       "    .dataframe thead th {\n",
       "        text-align: right;\n",
       "    }\n",
       "</style>\n",
       "<table border=\"1\" class=\"dataframe\">\n",
       "  <thead>\n",
       "    <tr style=\"text-align: right;\">\n",
       "      <th></th>\n",
       "      <th>ALTERSKATEGORIE_GROB</th>\n",
       "      <th>ANREDE_KZ</th>\n",
       "      <th>FINANZ_MINIMALIST</th>\n",
       "      <th>FINANZ_SPARER</th>\n",
       "      <th>FINANZ_VORSORGER</th>\n",
       "      <th>FINANZ_ANLEGER</th>\n",
       "      <th>FINANZ_UNAUFFAELLIGER</th>\n",
       "      <th>FINANZ_HAUSBAUER</th>\n",
       "      <th>GREEN_AVANTGARDE</th>\n",
       "      <th>HEALTH_TYP</th>\n",
       "      <th>...</th>\n",
       "      <th>PLZ8_ANTG4</th>\n",
       "      <th>PLZ8_HHZ</th>\n",
       "      <th>PLZ8_GBZ</th>\n",
       "      <th>ARBEIT</th>\n",
       "      <th>ORTSGR_KLS9</th>\n",
       "      <th>RELAT_AB</th>\n",
       "      <th>decade</th>\n",
       "      <th>movement</th>\n",
       "      <th>wealth</th>\n",
       "      <th>life_stage</th>\n",
       "    </tr>\n",
       "  </thead>\n",
       "  <tbody>\n",
       "    <tr>\n",
       "      <th>0</th>\n",
       "      <td>4.0</td>\n",
       "      <td>2.0</td>\n",
       "      <td>3.0</td>\n",
       "      <td>1.0</td>\n",
       "      <td>5.0</td>\n",
       "      <td>1.0</td>\n",
       "      <td>2.0</td>\n",
       "      <td>5.0</td>\n",
       "      <td>0.0</td>\n",
       "      <td>2.0</td>\n",
       "      <td>...</td>\n",
       "      <td>1.0</td>\n",
       "      <td>5.0</td>\n",
       "      <td>3.0</td>\n",
       "      <td>3.0</td>\n",
       "      <td>7.0</td>\n",
       "      <td>5.0</td>\n",
       "      <td>1.0</td>\n",
       "      <td>1.0</td>\n",
       "      <td>5.0</td>\n",
       "      <td>1.0</td>\n",
       "    </tr>\n",
       "    <tr>\n",
       "      <th>1</th>\n",
       "      <td>4.0</td>\n",
       "      <td>2.0</td>\n",
       "      <td>3.0</td>\n",
       "      <td>1.0</td>\n",
       "      <td>5.0</td>\n",
       "      <td>1.0</td>\n",
       "      <td>1.0</td>\n",
       "      <td>5.0</td>\n",
       "      <td>0.0</td>\n",
       "      <td>2.0</td>\n",
       "      <td>...</td>\n",
       "      <td>2.0</td>\n",
       "      <td>5.0</td>\n",
       "      <td>3.0</td>\n",
       "      <td>3.0</td>\n",
       "      <td>6.0</td>\n",
       "      <td>5.0</td>\n",
       "      <td>1.0</td>\n",
       "      <td>1.0</td>\n",
       "      <td>5.0</td>\n",
       "      <td>4.0</td>\n",
       "    </tr>\n",
       "    <tr>\n",
       "      <th>2</th>\n",
       "      <td>3.0</td>\n",
       "      <td>2.0</td>\n",
       "      <td>3.0</td>\n",
       "      <td>1.0</td>\n",
       "      <td>5.0</td>\n",
       "      <td>1.0</td>\n",
       "      <td>2.0</td>\n",
       "      <td>5.0</td>\n",
       "      <td>0.0</td>\n",
       "      <td>3.0</td>\n",
       "      <td>...</td>\n",
       "      <td>2.0</td>\n",
       "      <td>3.0</td>\n",
       "      <td>2.0</td>\n",
       "      <td>3.0</td>\n",
       "      <td>8.0</td>\n",
       "      <td>5.0</td>\n",
       "      <td>3.0</td>\n",
       "      <td>1.0</td>\n",
       "      <td>5.0</td>\n",
       "      <td>1.0</td>\n",
       "    </tr>\n",
       "    <tr>\n",
       "      <th>3</th>\n",
       "      <td>4.0</td>\n",
       "      <td>2.0</td>\n",
       "      <td>3.0</td>\n",
       "      <td>1.0</td>\n",
       "      <td>5.0</td>\n",
       "      <td>1.0</td>\n",
       "      <td>2.0</td>\n",
       "      <td>5.0</td>\n",
       "      <td>1.0</td>\n",
       "      <td>1.0</td>\n",
       "      <td>...</td>\n",
       "      <td>1.0</td>\n",
       "      <td>4.0</td>\n",
       "      <td>3.0</td>\n",
       "      <td>3.0</td>\n",
       "      <td>6.0</td>\n",
       "      <td>3.0</td>\n",
       "      <td>1.0</td>\n",
       "      <td>-0.0</td>\n",
       "      <td>2.0</td>\n",
       "      <td>5.0</td>\n",
       "    </tr>\n",
       "    <tr>\n",
       "      <th>4</th>\n",
       "      <td>4.0</td>\n",
       "      <td>2.0</td>\n",
       "      <td>3.0</td>\n",
       "      <td>1.0</td>\n",
       "      <td>5.0</td>\n",
       "      <td>1.0</td>\n",
       "      <td>1.0</td>\n",
       "      <td>5.0</td>\n",
       "      <td>1.0</td>\n",
       "      <td>2.0</td>\n",
       "      <td>...</td>\n",
       "      <td>1.0</td>\n",
       "      <td>5.0</td>\n",
       "      <td>5.0</td>\n",
       "      <td>3.0</td>\n",
       "      <td>7.0</td>\n",
       "      <td>2.0</td>\n",
       "      <td>2.0</td>\n",
       "      <td>-0.0</td>\n",
       "      <td>3.0</td>\n",
       "      <td>4.0</td>\n",
       "    </tr>\n",
       "    <tr>\n",
       "      <th>5</th>\n",
       "      <td>4.0</td>\n",
       "      <td>2.0</td>\n",
       "      <td>3.0</td>\n",
       "      <td>1.0</td>\n",
       "      <td>5.0</td>\n",
       "      <td>1.0</td>\n",
       "      <td>4.0</td>\n",
       "      <td>5.0</td>\n",
       "      <td>-0.0</td>\n",
       "      <td>2.0</td>\n",
       "      <td>...</td>\n",
       "      <td>1.0</td>\n",
       "      <td>5.0</td>\n",
       "      <td>4.0</td>\n",
       "      <td>4.0</td>\n",
       "      <td>7.0</td>\n",
       "      <td>3.0</td>\n",
       "      <td>1.0</td>\n",
       "      <td>1.0</td>\n",
       "      <td>4.0</td>\n",
       "      <td>1.0</td>\n",
       "    </tr>\n",
       "    <tr>\n",
       "      <th>6</th>\n",
       "      <td>4.0</td>\n",
       "      <td>2.0</td>\n",
       "      <td>3.0</td>\n",
       "      <td>1.0</td>\n",
       "      <td>5.0</td>\n",
       "      <td>1.0</td>\n",
       "      <td>2.0</td>\n",
       "      <td>5.0</td>\n",
       "      <td>0.0</td>\n",
       "      <td>2.0</td>\n",
       "      <td>...</td>\n",
       "      <td>2.0</td>\n",
       "      <td>5.0</td>\n",
       "      <td>3.0</td>\n",
       "      <td>3.0</td>\n",
       "      <td>6.0</td>\n",
       "      <td>5.0</td>\n",
       "      <td>1.0</td>\n",
       "      <td>1.0</td>\n",
       "      <td>3.0</td>\n",
       "      <td>5.0</td>\n",
       "    </tr>\n",
       "    <tr>\n",
       "      <th>7</th>\n",
       "      <td>4.0</td>\n",
       "      <td>2.0</td>\n",
       "      <td>3.0</td>\n",
       "      <td>1.0</td>\n",
       "      <td>5.0</td>\n",
       "      <td>1.0</td>\n",
       "      <td>1.0</td>\n",
       "      <td>5.0</td>\n",
       "      <td>0.0</td>\n",
       "      <td>1.0</td>\n",
       "      <td>...</td>\n",
       "      <td>1.0</td>\n",
       "      <td>4.0</td>\n",
       "      <td>4.0</td>\n",
       "      <td>3.0</td>\n",
       "      <td>6.0</td>\n",
       "      <td>2.0</td>\n",
       "      <td>2.0</td>\n",
       "      <td>1.0</td>\n",
       "      <td>5.0</td>\n",
       "      <td>5.0</td>\n",
       "    </tr>\n",
       "    <tr>\n",
       "      <th>8</th>\n",
       "      <td>4.0</td>\n",
       "      <td>2.0</td>\n",
       "      <td>3.0</td>\n",
       "      <td>1.0</td>\n",
       "      <td>5.0</td>\n",
       "      <td>1.0</td>\n",
       "      <td>1.0</td>\n",
       "      <td>5.0</td>\n",
       "      <td>1.0</td>\n",
       "      <td>2.0</td>\n",
       "      <td>...</td>\n",
       "      <td>2.0</td>\n",
       "      <td>3.0</td>\n",
       "      <td>2.0</td>\n",
       "      <td>3.0</td>\n",
       "      <td>7.0</td>\n",
       "      <td>5.0</td>\n",
       "      <td>2.0</td>\n",
       "      <td>-0.0</td>\n",
       "      <td>3.0</td>\n",
       "      <td>1.0</td>\n",
       "    </tr>\n",
       "    <tr>\n",
       "      <th>9</th>\n",
       "      <td>4.0</td>\n",
       "      <td>2.0</td>\n",
       "      <td>3.0</td>\n",
       "      <td>1.0</td>\n",
       "      <td>5.0</td>\n",
       "      <td>3.0</td>\n",
       "      <td>1.0</td>\n",
       "      <td>5.0</td>\n",
       "      <td>0.0</td>\n",
       "      <td>2.0</td>\n",
       "      <td>...</td>\n",
       "      <td>0.0</td>\n",
       "      <td>3.0</td>\n",
       "      <td>3.0</td>\n",
       "      <td>4.0</td>\n",
       "      <td>2.0</td>\n",
       "      <td>3.0</td>\n",
       "      <td>1.0</td>\n",
       "      <td>1.0</td>\n",
       "      <td>5.0</td>\n",
       "      <td>4.0</td>\n",
       "    </tr>\n",
       "  </tbody>\n",
       "</table>\n",
       "<p>10 rows × 63 columns</p>\n",
       "</div>"
      ],
      "text/plain": [
       "   ALTERSKATEGORIE_GROB  ANREDE_KZ  FINANZ_MINIMALIST  FINANZ_SPARER  \\\n",
       "0                   4.0        2.0                3.0            1.0   \n",
       "1                   4.0        2.0                3.0            1.0   \n",
       "2                   3.0        2.0                3.0            1.0   \n",
       "3                   4.0        2.0                3.0            1.0   \n",
       "4                   4.0        2.0                3.0            1.0   \n",
       "5                   4.0        2.0                3.0            1.0   \n",
       "6                   4.0        2.0                3.0            1.0   \n",
       "7                   4.0        2.0                3.0            1.0   \n",
       "8                   4.0        2.0                3.0            1.0   \n",
       "9                   4.0        2.0                3.0            1.0   \n",
       "\n",
       "   FINANZ_VORSORGER  FINANZ_ANLEGER  FINANZ_UNAUFFAELLIGER  FINANZ_HAUSBAUER  \\\n",
       "0               5.0             1.0                    2.0               5.0   \n",
       "1               5.0             1.0                    1.0               5.0   \n",
       "2               5.0             1.0                    2.0               5.0   \n",
       "3               5.0             1.0                    2.0               5.0   \n",
       "4               5.0             1.0                    1.0               5.0   \n",
       "5               5.0             1.0                    4.0               5.0   \n",
       "6               5.0             1.0                    2.0               5.0   \n",
       "7               5.0             1.0                    1.0               5.0   \n",
       "8               5.0             1.0                    1.0               5.0   \n",
       "9               5.0             3.0                    1.0               5.0   \n",
       "\n",
       "   GREEN_AVANTGARDE  HEALTH_TYP     ...      PLZ8_ANTG4  PLZ8_HHZ  PLZ8_GBZ  \\\n",
       "0               0.0         2.0     ...             1.0       5.0       3.0   \n",
       "1               0.0         2.0     ...             2.0       5.0       3.0   \n",
       "2               0.0         3.0     ...             2.0       3.0       2.0   \n",
       "3               1.0         1.0     ...             1.0       4.0       3.0   \n",
       "4               1.0         2.0     ...             1.0       5.0       5.0   \n",
       "5              -0.0         2.0     ...             1.0       5.0       4.0   \n",
       "6               0.0         2.0     ...             2.0       5.0       3.0   \n",
       "7               0.0         1.0     ...             1.0       4.0       4.0   \n",
       "8               1.0         2.0     ...             2.0       3.0       2.0   \n",
       "9               0.0         2.0     ...             0.0       3.0       3.0   \n",
       "\n",
       "   ARBEIT  ORTSGR_KLS9  RELAT_AB  decade  movement  wealth  life_stage  \n",
       "0     3.0          7.0       5.0     1.0       1.0     5.0         1.0  \n",
       "1     3.0          6.0       5.0     1.0       1.0     5.0         4.0  \n",
       "2     3.0          8.0       5.0     3.0       1.0     5.0         1.0  \n",
       "3     3.0          6.0       3.0     1.0      -0.0     2.0         5.0  \n",
       "4     3.0          7.0       2.0     2.0      -0.0     3.0         4.0  \n",
       "5     4.0          7.0       3.0     1.0       1.0     4.0         1.0  \n",
       "6     3.0          6.0       5.0     1.0       1.0     3.0         5.0  \n",
       "7     3.0          6.0       2.0     2.0       1.0     5.0         5.0  \n",
       "8     3.0          7.0       5.0     2.0      -0.0     3.0         1.0  \n",
       "9     4.0          2.0       3.0     1.0       1.0     5.0         4.0  \n",
       "\n",
       "[10 rows x 63 columns]"
      ]
     },
     "execution_count": 84,
     "metadata": {},
     "output_type": "execute_result"
    }
   ],
   "source": [
    "# What kinds of people are part of a cluster that is overrepresented in the\n",
    "# customer data compared to the general population?\n",
    "\n",
    "data = normalizer.inverse_transform(pca.inverse_transform(customers_clean_pca[np.where(predict_customers==14)])).round()\n",
    "df = pd.DataFrame(data=data,\n",
    "          index=np.array(range(0, data.shape[0])),\n",
    "          columns=dummy_df.columns)\n",
    "df.head(10)"
   ]
  },
  {
   "cell_type": "code",
   "execution_count": 85,
   "metadata": {},
   "outputs": [
    {
     "data": {
      "text/html": [
       "<div>\n",
       "<style scoped>\n",
       "    .dataframe tbody tr th:only-of-type {\n",
       "        vertical-align: middle;\n",
       "    }\n",
       "\n",
       "    .dataframe tbody tr th {\n",
       "        vertical-align: top;\n",
       "    }\n",
       "\n",
       "    .dataframe thead th {\n",
       "        text-align: right;\n",
       "    }\n",
       "</style>\n",
       "<table border=\"1\" class=\"dataframe\">\n",
       "  <thead>\n",
       "    <tr style=\"text-align: right;\">\n",
       "      <th></th>\n",
       "      <th>ALTERSKATEGORIE_GROB</th>\n",
       "      <th>ANREDE_KZ</th>\n",
       "      <th>FINANZ_MINIMALIST</th>\n",
       "      <th>FINANZ_SPARER</th>\n",
       "      <th>FINANZ_VORSORGER</th>\n",
       "      <th>FINANZ_ANLEGER</th>\n",
       "      <th>FINANZ_UNAUFFAELLIGER</th>\n",
       "      <th>FINANZ_HAUSBAUER</th>\n",
       "      <th>GREEN_AVANTGARDE</th>\n",
       "      <th>HEALTH_TYP</th>\n",
       "      <th>...</th>\n",
       "      <th>PLZ8_ANTG4</th>\n",
       "      <th>PLZ8_HHZ</th>\n",
       "      <th>PLZ8_GBZ</th>\n",
       "      <th>ARBEIT</th>\n",
       "      <th>ORTSGR_KLS9</th>\n",
       "      <th>RELAT_AB</th>\n",
       "      <th>decade</th>\n",
       "      <th>movement</th>\n",
       "      <th>wealth</th>\n",
       "      <th>life_stage</th>\n",
       "    </tr>\n",
       "  </thead>\n",
       "  <tbody>\n",
       "    <tr>\n",
       "      <th>0</th>\n",
       "      <td>3.0</td>\n",
       "      <td>2.0</td>\n",
       "      <td>2.0</td>\n",
       "      <td>2.0</td>\n",
       "      <td>5.0</td>\n",
       "      <td>3.0</td>\n",
       "      <td>1.0</td>\n",
       "      <td>5.0</td>\n",
       "      <td>0.0</td>\n",
       "      <td>2.0</td>\n",
       "      <td>...</td>\n",
       "      <td>0.0</td>\n",
       "      <td>3.0</td>\n",
       "      <td>3.0</td>\n",
       "      <td>4.0</td>\n",
       "      <td>5.0</td>\n",
       "      <td>5.0</td>\n",
       "      <td>2.0</td>\n",
       "      <td>1.0</td>\n",
       "      <td>5.0</td>\n",
       "      <td>1.0</td>\n",
       "    </tr>\n",
       "    <tr>\n",
       "      <th>1</th>\n",
       "      <td>4.0</td>\n",
       "      <td>2.0</td>\n",
       "      <td>3.0</td>\n",
       "      <td>1.0</td>\n",
       "      <td>5.0</td>\n",
       "      <td>1.0</td>\n",
       "      <td>1.0</td>\n",
       "      <td>4.0</td>\n",
       "      <td>-0.0</td>\n",
       "      <td>2.0</td>\n",
       "      <td>...</td>\n",
       "      <td>0.0</td>\n",
       "      <td>3.0</td>\n",
       "      <td>3.0</td>\n",
       "      <td>4.0</td>\n",
       "      <td>8.0</td>\n",
       "      <td>5.0</td>\n",
       "      <td>3.0</td>\n",
       "      <td>1.0</td>\n",
       "      <td>4.0</td>\n",
       "      <td>1.0</td>\n",
       "    </tr>\n",
       "    <tr>\n",
       "      <th>2</th>\n",
       "      <td>4.0</td>\n",
       "      <td>2.0</td>\n",
       "      <td>3.0</td>\n",
       "      <td>1.0</td>\n",
       "      <td>5.0</td>\n",
       "      <td>1.0</td>\n",
       "      <td>1.0</td>\n",
       "      <td>5.0</td>\n",
       "      <td>-0.0</td>\n",
       "      <td>2.0</td>\n",
       "      <td>...</td>\n",
       "      <td>1.0</td>\n",
       "      <td>3.0</td>\n",
       "      <td>3.0</td>\n",
       "      <td>4.0</td>\n",
       "      <td>8.0</td>\n",
       "      <td>3.0</td>\n",
       "      <td>1.0</td>\n",
       "      <td>1.0</td>\n",
       "      <td>5.0</td>\n",
       "      <td>1.0</td>\n",
       "    </tr>\n",
       "    <tr>\n",
       "      <th>3</th>\n",
       "      <td>4.0</td>\n",
       "      <td>2.0</td>\n",
       "      <td>3.0</td>\n",
       "      <td>1.0</td>\n",
       "      <td>5.0</td>\n",
       "      <td>2.0</td>\n",
       "      <td>1.0</td>\n",
       "      <td>5.0</td>\n",
       "      <td>-0.0</td>\n",
       "      <td>2.0</td>\n",
       "      <td>...</td>\n",
       "      <td>2.0</td>\n",
       "      <td>3.0</td>\n",
       "      <td>2.0</td>\n",
       "      <td>4.0</td>\n",
       "      <td>7.0</td>\n",
       "      <td>3.0</td>\n",
       "      <td>3.0</td>\n",
       "      <td>1.0</td>\n",
       "      <td>5.0</td>\n",
       "      <td>5.0</td>\n",
       "    </tr>\n",
       "    <tr>\n",
       "      <th>4</th>\n",
       "      <td>4.0</td>\n",
       "      <td>2.0</td>\n",
       "      <td>3.0</td>\n",
       "      <td>2.0</td>\n",
       "      <td>4.0</td>\n",
       "      <td>2.0</td>\n",
       "      <td>1.0</td>\n",
       "      <td>5.0</td>\n",
       "      <td>-0.0</td>\n",
       "      <td>1.0</td>\n",
       "      <td>...</td>\n",
       "      <td>2.0</td>\n",
       "      <td>3.0</td>\n",
       "      <td>2.0</td>\n",
       "      <td>4.0</td>\n",
       "      <td>7.0</td>\n",
       "      <td>3.0</td>\n",
       "      <td>6.0</td>\n",
       "      <td>1.0</td>\n",
       "      <td>4.0</td>\n",
       "      <td>4.0</td>\n",
       "    </tr>\n",
       "    <tr>\n",
       "      <th>5</th>\n",
       "      <td>4.0</td>\n",
       "      <td>2.0</td>\n",
       "      <td>3.0</td>\n",
       "      <td>1.0</td>\n",
       "      <td>4.0</td>\n",
       "      <td>3.0</td>\n",
       "      <td>1.0</td>\n",
       "      <td>5.0</td>\n",
       "      <td>0.0</td>\n",
       "      <td>1.0</td>\n",
       "      <td>...</td>\n",
       "      <td>0.0</td>\n",
       "      <td>3.0</td>\n",
       "      <td>3.0</td>\n",
       "      <td>4.0</td>\n",
       "      <td>4.0</td>\n",
       "      <td>5.0</td>\n",
       "      <td>2.0</td>\n",
       "      <td>1.0</td>\n",
       "      <td>4.0</td>\n",
       "      <td>4.0</td>\n",
       "    </tr>\n",
       "    <tr>\n",
       "      <th>6</th>\n",
       "      <td>4.0</td>\n",
       "      <td>2.0</td>\n",
       "      <td>3.0</td>\n",
       "      <td>1.0</td>\n",
       "      <td>5.0</td>\n",
       "      <td>1.0</td>\n",
       "      <td>1.0</td>\n",
       "      <td>5.0</td>\n",
       "      <td>0.0</td>\n",
       "      <td>2.0</td>\n",
       "      <td>...</td>\n",
       "      <td>2.0</td>\n",
       "      <td>4.0</td>\n",
       "      <td>3.0</td>\n",
       "      <td>4.0</td>\n",
       "      <td>8.0</td>\n",
       "      <td>5.0</td>\n",
       "      <td>1.0</td>\n",
       "      <td>1.0</td>\n",
       "      <td>5.0</td>\n",
       "      <td>1.0</td>\n",
       "    </tr>\n",
       "    <tr>\n",
       "      <th>7</th>\n",
       "      <td>4.0</td>\n",
       "      <td>2.0</td>\n",
       "      <td>3.0</td>\n",
       "      <td>1.0</td>\n",
       "      <td>5.0</td>\n",
       "      <td>1.0</td>\n",
       "      <td>1.0</td>\n",
       "      <td>4.0</td>\n",
       "      <td>-0.0</td>\n",
       "      <td>2.0</td>\n",
       "      <td>...</td>\n",
       "      <td>1.0</td>\n",
       "      <td>4.0</td>\n",
       "      <td>3.0</td>\n",
       "      <td>2.0</td>\n",
       "      <td>6.0</td>\n",
       "      <td>3.0</td>\n",
       "      <td>3.0</td>\n",
       "      <td>1.0</td>\n",
       "      <td>2.0</td>\n",
       "      <td>3.0</td>\n",
       "    </tr>\n",
       "    <tr>\n",
       "      <th>8</th>\n",
       "      <td>3.0</td>\n",
       "      <td>2.0</td>\n",
       "      <td>3.0</td>\n",
       "      <td>1.0</td>\n",
       "      <td>5.0</td>\n",
       "      <td>1.0</td>\n",
       "      <td>1.0</td>\n",
       "      <td>5.0</td>\n",
       "      <td>0.0</td>\n",
       "      <td>2.0</td>\n",
       "      <td>...</td>\n",
       "      <td>1.0</td>\n",
       "      <td>5.0</td>\n",
       "      <td>4.0</td>\n",
       "      <td>4.0</td>\n",
       "      <td>9.0</td>\n",
       "      <td>3.0</td>\n",
       "      <td>3.0</td>\n",
       "      <td>1.0</td>\n",
       "      <td>5.0</td>\n",
       "      <td>2.0</td>\n",
       "    </tr>\n",
       "    <tr>\n",
       "      <th>9</th>\n",
       "      <td>4.0</td>\n",
       "      <td>2.0</td>\n",
       "      <td>2.0</td>\n",
       "      <td>1.0</td>\n",
       "      <td>5.0</td>\n",
       "      <td>1.0</td>\n",
       "      <td>2.0</td>\n",
       "      <td>5.0</td>\n",
       "      <td>-0.0</td>\n",
       "      <td>2.0</td>\n",
       "      <td>...</td>\n",
       "      <td>2.0</td>\n",
       "      <td>3.0</td>\n",
       "      <td>2.0</td>\n",
       "      <td>4.0</td>\n",
       "      <td>5.0</td>\n",
       "      <td>5.0</td>\n",
       "      <td>3.0</td>\n",
       "      <td>1.0</td>\n",
       "      <td>3.0</td>\n",
       "      <td>4.0</td>\n",
       "    </tr>\n",
       "  </tbody>\n",
       "</table>\n",
       "<p>10 rows × 63 columns</p>\n",
       "</div>"
      ],
      "text/plain": [
       "   ALTERSKATEGORIE_GROB  ANREDE_KZ  FINANZ_MINIMALIST  FINANZ_SPARER  \\\n",
       "0                   3.0        2.0                2.0            2.0   \n",
       "1                   4.0        2.0                3.0            1.0   \n",
       "2                   4.0        2.0                3.0            1.0   \n",
       "3                   4.0        2.0                3.0            1.0   \n",
       "4                   4.0        2.0                3.0            2.0   \n",
       "5                   4.0        2.0                3.0            1.0   \n",
       "6                   4.0        2.0                3.0            1.0   \n",
       "7                   4.0        2.0                3.0            1.0   \n",
       "8                   3.0        2.0                3.0            1.0   \n",
       "9                   4.0        2.0                2.0            1.0   \n",
       "\n",
       "   FINANZ_VORSORGER  FINANZ_ANLEGER  FINANZ_UNAUFFAELLIGER  FINANZ_HAUSBAUER  \\\n",
       "0               5.0             3.0                    1.0               5.0   \n",
       "1               5.0             1.0                    1.0               4.0   \n",
       "2               5.0             1.0                    1.0               5.0   \n",
       "3               5.0             2.0                    1.0               5.0   \n",
       "4               4.0             2.0                    1.0               5.0   \n",
       "5               4.0             3.0                    1.0               5.0   \n",
       "6               5.0             1.0                    1.0               5.0   \n",
       "7               5.0             1.0                    1.0               4.0   \n",
       "8               5.0             1.0                    1.0               5.0   \n",
       "9               5.0             1.0                    2.0               5.0   \n",
       "\n",
       "   GREEN_AVANTGARDE  HEALTH_TYP     ...      PLZ8_ANTG4  PLZ8_HHZ  PLZ8_GBZ  \\\n",
       "0               0.0         2.0     ...             0.0       3.0       3.0   \n",
       "1              -0.0         2.0     ...             0.0       3.0       3.0   \n",
       "2              -0.0         2.0     ...             1.0       3.0       3.0   \n",
       "3              -0.0         2.0     ...             2.0       3.0       2.0   \n",
       "4              -0.0         1.0     ...             2.0       3.0       2.0   \n",
       "5               0.0         1.0     ...             0.0       3.0       3.0   \n",
       "6               0.0         2.0     ...             2.0       4.0       3.0   \n",
       "7              -0.0         2.0     ...             1.0       4.0       3.0   \n",
       "8               0.0         2.0     ...             1.0       5.0       4.0   \n",
       "9              -0.0         2.0     ...             2.0       3.0       2.0   \n",
       "\n",
       "   ARBEIT  ORTSGR_KLS9  RELAT_AB  decade  movement  wealth  life_stage  \n",
       "0     4.0          5.0       5.0     2.0       1.0     5.0         1.0  \n",
       "1     4.0          8.0       5.0     3.0       1.0     4.0         1.0  \n",
       "2     4.0          8.0       3.0     1.0       1.0     5.0         1.0  \n",
       "3     4.0          7.0       3.0     3.0       1.0     5.0         5.0  \n",
       "4     4.0          7.0       3.0     6.0       1.0     4.0         4.0  \n",
       "5     4.0          4.0       5.0     2.0       1.0     4.0         4.0  \n",
       "6     4.0          8.0       5.0     1.0       1.0     5.0         1.0  \n",
       "7     2.0          6.0       3.0     3.0       1.0     2.0         3.0  \n",
       "8     4.0          9.0       3.0     3.0       1.0     5.0         2.0  \n",
       "9     4.0          5.0       5.0     3.0       1.0     3.0         4.0  \n",
       "\n",
       "[10 rows x 63 columns]"
      ]
     },
     "execution_count": 85,
     "metadata": {},
     "output_type": "execute_result"
    }
   ],
   "source": [
    "data_2 = normalizer.inverse_transform(pca.inverse_transform(dummy_df_pca[np.where(predict_general==14)])).round()\n",
    "df_2 = pd.DataFrame(data=data_2,\n",
    "          index=np.array(range(0, data_2.shape[0])),\n",
    "          columns=dummy_df.columns)\n",
    "df_2.head(10)"
   ]
  },
  {
   "cell_type": "code",
   "execution_count": 86,
   "metadata": {},
   "outputs": [
    {
     "data": {
      "text/html": [
       "<div>\n",
       "<style scoped>\n",
       "    .dataframe tbody tr th:only-of-type {\n",
       "        vertical-align: middle;\n",
       "    }\n",
       "\n",
       "    .dataframe tbody tr th {\n",
       "        vertical-align: top;\n",
       "    }\n",
       "\n",
       "    .dataframe thead th {\n",
       "        text-align: right;\n",
       "    }\n",
       "</style>\n",
       "<table border=\"1\" class=\"dataframe\">\n",
       "  <thead>\n",
       "    <tr style=\"text-align: right;\">\n",
       "      <th></th>\n",
       "      <th>ALTERSKATEGORIE_GROB</th>\n",
       "      <th>ANREDE_KZ</th>\n",
       "      <th>FINANZ_MINIMALIST</th>\n",
       "      <th>FINANZ_SPARER</th>\n",
       "      <th>FINANZ_VORSORGER</th>\n",
       "      <th>FINANZ_ANLEGER</th>\n",
       "      <th>FINANZ_UNAUFFAELLIGER</th>\n",
       "      <th>FINANZ_HAUSBAUER</th>\n",
       "      <th>GREEN_AVANTGARDE</th>\n",
       "      <th>HEALTH_TYP</th>\n",
       "      <th>...</th>\n",
       "      <th>PLZ8_ANTG4</th>\n",
       "      <th>PLZ8_HHZ</th>\n",
       "      <th>PLZ8_GBZ</th>\n",
       "      <th>ARBEIT</th>\n",
       "      <th>ORTSGR_KLS9</th>\n",
       "      <th>RELAT_AB</th>\n",
       "      <th>decade</th>\n",
       "      <th>movement</th>\n",
       "      <th>wealth</th>\n",
       "      <th>life_stage</th>\n",
       "    </tr>\n",
       "  </thead>\n",
       "  <tbody>\n",
       "    <tr>\n",
       "      <th>0</th>\n",
       "      <td>4.0</td>\n",
       "      <td>2.0</td>\n",
       "      <td>2.0</td>\n",
       "      <td>1.0</td>\n",
       "      <td>5.0</td>\n",
       "      <td>2.0</td>\n",
       "      <td>1.0</td>\n",
       "      <td>5.0</td>\n",
       "      <td>0.0</td>\n",
       "      <td>2.0</td>\n",
       "      <td>...</td>\n",
       "      <td>1.0</td>\n",
       "      <td>5.0</td>\n",
       "      <td>4.0</td>\n",
       "      <td>3.0</td>\n",
       "      <td>7.0</td>\n",
       "      <td>3.0</td>\n",
       "      <td>1.0</td>\n",
       "      <td>1.0</td>\n",
       "      <td>5.0</td>\n",
       "      <td>5.0</td>\n",
       "    </tr>\n",
       "    <tr>\n",
       "      <th>1</th>\n",
       "      <td>4.0</td>\n",
       "      <td>2.0</td>\n",
       "      <td>3.0</td>\n",
       "      <td>1.0</td>\n",
       "      <td>4.0</td>\n",
       "      <td>2.0</td>\n",
       "      <td>1.0</td>\n",
       "      <td>6.0</td>\n",
       "      <td>-0.0</td>\n",
       "      <td>1.0</td>\n",
       "      <td>...</td>\n",
       "      <td>2.0</td>\n",
       "      <td>4.0</td>\n",
       "      <td>2.0</td>\n",
       "      <td>4.0</td>\n",
       "      <td>8.0</td>\n",
       "      <td>3.0</td>\n",
       "      <td>4.0</td>\n",
       "      <td>1.0</td>\n",
       "      <td>5.0</td>\n",
       "      <td>1.0</td>\n",
       "    </tr>\n",
       "    <tr>\n",
       "      <th>2</th>\n",
       "      <td>4.0</td>\n",
       "      <td>2.0</td>\n",
       "      <td>2.0</td>\n",
       "      <td>1.0</td>\n",
       "      <td>5.0</td>\n",
       "      <td>2.0</td>\n",
       "      <td>1.0</td>\n",
       "      <td>5.0</td>\n",
       "      <td>1.0</td>\n",
       "      <td>2.0</td>\n",
       "      <td>...</td>\n",
       "      <td>0.0</td>\n",
       "      <td>5.0</td>\n",
       "      <td>5.0</td>\n",
       "      <td>3.0</td>\n",
       "      <td>2.0</td>\n",
       "      <td>3.0</td>\n",
       "      <td>2.0</td>\n",
       "      <td>0.0</td>\n",
       "      <td>5.0</td>\n",
       "      <td>4.0</td>\n",
       "    </tr>\n",
       "    <tr>\n",
       "      <th>3</th>\n",
       "      <td>3.0</td>\n",
       "      <td>2.0</td>\n",
       "      <td>2.0</td>\n",
       "      <td>2.0</td>\n",
       "      <td>5.0</td>\n",
       "      <td>1.0</td>\n",
       "      <td>1.0</td>\n",
       "      <td>5.0</td>\n",
       "      <td>0.0</td>\n",
       "      <td>3.0</td>\n",
       "      <td>...</td>\n",
       "      <td>1.0</td>\n",
       "      <td>3.0</td>\n",
       "      <td>3.0</td>\n",
       "      <td>4.0</td>\n",
       "      <td>8.0</td>\n",
       "      <td>5.0</td>\n",
       "      <td>2.0</td>\n",
       "      <td>1.0</td>\n",
       "      <td>5.0</td>\n",
       "      <td>2.0</td>\n",
       "    </tr>\n",
       "    <tr>\n",
       "      <th>4</th>\n",
       "      <td>4.0</td>\n",
       "      <td>2.0</td>\n",
       "      <td>2.0</td>\n",
       "      <td>3.0</td>\n",
       "      <td>4.0</td>\n",
       "      <td>3.0</td>\n",
       "      <td>1.0</td>\n",
       "      <td>3.0</td>\n",
       "      <td>0.0</td>\n",
       "      <td>2.0</td>\n",
       "      <td>...</td>\n",
       "      <td>1.0</td>\n",
       "      <td>3.0</td>\n",
       "      <td>2.0</td>\n",
       "      <td>3.0</td>\n",
       "      <td>7.0</td>\n",
       "      <td>5.0</td>\n",
       "      <td>5.0</td>\n",
       "      <td>1.0</td>\n",
       "      <td>5.0</td>\n",
       "      <td>4.0</td>\n",
       "    </tr>\n",
       "    <tr>\n",
       "      <th>5</th>\n",
       "      <td>3.0</td>\n",
       "      <td>2.0</td>\n",
       "      <td>2.0</td>\n",
       "      <td>1.0</td>\n",
       "      <td>5.0</td>\n",
       "      <td>1.0</td>\n",
       "      <td>2.0</td>\n",
       "      <td>5.0</td>\n",
       "      <td>0.0</td>\n",
       "      <td>2.0</td>\n",
       "      <td>...</td>\n",
       "      <td>2.0</td>\n",
       "      <td>4.0</td>\n",
       "      <td>2.0</td>\n",
       "      <td>3.0</td>\n",
       "      <td>9.0</td>\n",
       "      <td>5.0</td>\n",
       "      <td>4.0</td>\n",
       "      <td>1.0</td>\n",
       "      <td>4.0</td>\n",
       "      <td>1.0</td>\n",
       "    </tr>\n",
       "    <tr>\n",
       "      <th>6</th>\n",
       "      <td>4.0</td>\n",
       "      <td>2.0</td>\n",
       "      <td>2.0</td>\n",
       "      <td>2.0</td>\n",
       "      <td>5.0</td>\n",
       "      <td>4.0</td>\n",
       "      <td>1.0</td>\n",
       "      <td>5.0</td>\n",
       "      <td>0.0</td>\n",
       "      <td>1.0</td>\n",
       "      <td>...</td>\n",
       "      <td>2.0</td>\n",
       "      <td>3.0</td>\n",
       "      <td>1.0</td>\n",
       "      <td>4.0</td>\n",
       "      <td>8.0</td>\n",
       "      <td>3.0</td>\n",
       "      <td>2.0</td>\n",
       "      <td>1.0</td>\n",
       "      <td>5.0</td>\n",
       "      <td>1.0</td>\n",
       "    </tr>\n",
       "    <tr>\n",
       "      <th>7</th>\n",
       "      <td>3.0</td>\n",
       "      <td>2.0</td>\n",
       "      <td>2.0</td>\n",
       "      <td>3.0</td>\n",
       "      <td>4.0</td>\n",
       "      <td>4.0</td>\n",
       "      <td>3.0</td>\n",
       "      <td>4.0</td>\n",
       "      <td>-0.0</td>\n",
       "      <td>1.0</td>\n",
       "      <td>...</td>\n",
       "      <td>1.0</td>\n",
       "      <td>3.0</td>\n",
       "      <td>3.0</td>\n",
       "      <td>3.0</td>\n",
       "      <td>4.0</td>\n",
       "      <td>3.0</td>\n",
       "      <td>4.0</td>\n",
       "      <td>1.0</td>\n",
       "      <td>3.0</td>\n",
       "      <td>4.0</td>\n",
       "    </tr>\n",
       "    <tr>\n",
       "      <th>8</th>\n",
       "      <td>2.0</td>\n",
       "      <td>2.0</td>\n",
       "      <td>2.0</td>\n",
       "      <td>2.0</td>\n",
       "      <td>5.0</td>\n",
       "      <td>2.0</td>\n",
       "      <td>3.0</td>\n",
       "      <td>5.0</td>\n",
       "      <td>0.0</td>\n",
       "      <td>2.0</td>\n",
       "      <td>...</td>\n",
       "      <td>1.0</td>\n",
       "      <td>5.0</td>\n",
       "      <td>4.0</td>\n",
       "      <td>4.0</td>\n",
       "      <td>8.0</td>\n",
       "      <td>5.0</td>\n",
       "      <td>1.0</td>\n",
       "      <td>1.0</td>\n",
       "      <td>5.0</td>\n",
       "      <td>1.0</td>\n",
       "    </tr>\n",
       "    <tr>\n",
       "      <th>9</th>\n",
       "      <td>3.0</td>\n",
       "      <td>2.0</td>\n",
       "      <td>3.0</td>\n",
       "      <td>2.0</td>\n",
       "      <td>4.0</td>\n",
       "      <td>1.0</td>\n",
       "      <td>3.0</td>\n",
       "      <td>3.0</td>\n",
       "      <td>1.0</td>\n",
       "      <td>2.0</td>\n",
       "      <td>...</td>\n",
       "      <td>1.0</td>\n",
       "      <td>3.0</td>\n",
       "      <td>3.0</td>\n",
       "      <td>3.0</td>\n",
       "      <td>8.0</td>\n",
       "      <td>5.0</td>\n",
       "      <td>5.0</td>\n",
       "      <td>-0.0</td>\n",
       "      <td>5.0</td>\n",
       "      <td>4.0</td>\n",
       "    </tr>\n",
       "  </tbody>\n",
       "</table>\n",
       "<p>10 rows × 63 columns</p>\n",
       "</div>"
      ],
      "text/plain": [
       "   ALTERSKATEGORIE_GROB  ANREDE_KZ  FINANZ_MINIMALIST  FINANZ_SPARER  \\\n",
       "0                   4.0        2.0                2.0            1.0   \n",
       "1                   4.0        2.0                3.0            1.0   \n",
       "2                   4.0        2.0                2.0            1.0   \n",
       "3                   3.0        2.0                2.0            2.0   \n",
       "4                   4.0        2.0                2.0            3.0   \n",
       "5                   3.0        2.0                2.0            1.0   \n",
       "6                   4.0        2.0                2.0            2.0   \n",
       "7                   3.0        2.0                2.0            3.0   \n",
       "8                   2.0        2.0                2.0            2.0   \n",
       "9                   3.0        2.0                3.0            2.0   \n",
       "\n",
       "   FINANZ_VORSORGER  FINANZ_ANLEGER  FINANZ_UNAUFFAELLIGER  FINANZ_HAUSBAUER  \\\n",
       "0               5.0             2.0                    1.0               5.0   \n",
       "1               4.0             2.0                    1.0               6.0   \n",
       "2               5.0             2.0                    1.0               5.0   \n",
       "3               5.0             1.0                    1.0               5.0   \n",
       "4               4.0             3.0                    1.0               3.0   \n",
       "5               5.0             1.0                    2.0               5.0   \n",
       "6               5.0             4.0                    1.0               5.0   \n",
       "7               4.0             4.0                    3.0               4.0   \n",
       "8               5.0             2.0                    3.0               5.0   \n",
       "9               4.0             1.0                    3.0               3.0   \n",
       "\n",
       "   GREEN_AVANTGARDE  HEALTH_TYP     ...      PLZ8_ANTG4  PLZ8_HHZ  PLZ8_GBZ  \\\n",
       "0               0.0         2.0     ...             1.0       5.0       4.0   \n",
       "1              -0.0         1.0     ...             2.0       4.0       2.0   \n",
       "2               1.0         2.0     ...             0.0       5.0       5.0   \n",
       "3               0.0         3.0     ...             1.0       3.0       3.0   \n",
       "4               0.0         2.0     ...             1.0       3.0       2.0   \n",
       "5               0.0         2.0     ...             2.0       4.0       2.0   \n",
       "6               0.0         1.0     ...             2.0       3.0       1.0   \n",
       "7              -0.0         1.0     ...             1.0       3.0       3.0   \n",
       "8               0.0         2.0     ...             1.0       5.0       4.0   \n",
       "9               1.0         2.0     ...             1.0       3.0       3.0   \n",
       "\n",
       "   ARBEIT  ORTSGR_KLS9  RELAT_AB  decade  movement  wealth  life_stage  \n",
       "0     3.0          7.0       3.0     1.0       1.0     5.0         5.0  \n",
       "1     4.0          8.0       3.0     4.0       1.0     5.0         1.0  \n",
       "2     3.0          2.0       3.0     2.0       0.0     5.0         4.0  \n",
       "3     4.0          8.0       5.0     2.0       1.0     5.0         2.0  \n",
       "4     3.0          7.0       5.0     5.0       1.0     5.0         4.0  \n",
       "5     3.0          9.0       5.0     4.0       1.0     4.0         1.0  \n",
       "6     4.0          8.0       3.0     2.0       1.0     5.0         1.0  \n",
       "7     3.0          4.0       3.0     4.0       1.0     3.0         4.0  \n",
       "8     4.0          8.0       5.0     1.0       1.0     5.0         1.0  \n",
       "9     3.0          8.0       5.0     5.0      -0.0     5.0         4.0  \n",
       "\n",
       "[10 rows x 63 columns]"
      ]
     },
     "execution_count": 86,
     "metadata": {},
     "output_type": "execute_result"
    }
   ],
   "source": [
    "# What kinds of people are part of a cluster that is underrepresented in the\n",
    "# customer data compared to the general population?\n",
    "\n",
    "data = normalizer.inverse_transform(pca.inverse_transform(customers_clean_pca[np.where(predict_customers==4)])).round()\n",
    "df = pd.DataFrame(data=data,\n",
    "          index=np.array(range(0, data.shape[0])),\n",
    "          columns=dummy_df.columns)\n",
    "df.head(10)"
   ]
  },
  {
   "cell_type": "code",
   "execution_count": 87,
   "metadata": {},
   "outputs": [
    {
     "data": {
      "text/html": [
       "<div>\n",
       "<style scoped>\n",
       "    .dataframe tbody tr th:only-of-type {\n",
       "        vertical-align: middle;\n",
       "    }\n",
       "\n",
       "    .dataframe tbody tr th {\n",
       "        vertical-align: top;\n",
       "    }\n",
       "\n",
       "    .dataframe thead th {\n",
       "        text-align: right;\n",
       "    }\n",
       "</style>\n",
       "<table border=\"1\" class=\"dataframe\">\n",
       "  <thead>\n",
       "    <tr style=\"text-align: right;\">\n",
       "      <th></th>\n",
       "      <th>ALTERSKATEGORIE_GROB</th>\n",
       "      <th>ANREDE_KZ</th>\n",
       "      <th>FINANZ_MINIMALIST</th>\n",
       "      <th>FINANZ_SPARER</th>\n",
       "      <th>FINANZ_VORSORGER</th>\n",
       "      <th>FINANZ_ANLEGER</th>\n",
       "      <th>FINANZ_UNAUFFAELLIGER</th>\n",
       "      <th>FINANZ_HAUSBAUER</th>\n",
       "      <th>GREEN_AVANTGARDE</th>\n",
       "      <th>HEALTH_TYP</th>\n",
       "      <th>...</th>\n",
       "      <th>PLZ8_ANTG4</th>\n",
       "      <th>PLZ8_HHZ</th>\n",
       "      <th>PLZ8_GBZ</th>\n",
       "      <th>ARBEIT</th>\n",
       "      <th>ORTSGR_KLS9</th>\n",
       "      <th>RELAT_AB</th>\n",
       "      <th>decade</th>\n",
       "      <th>movement</th>\n",
       "      <th>wealth</th>\n",
       "      <th>life_stage</th>\n",
       "    </tr>\n",
       "  </thead>\n",
       "  <tbody>\n",
       "    <tr>\n",
       "      <th>0</th>\n",
       "      <td>3.0</td>\n",
       "      <td>2.0</td>\n",
       "      <td>2.0</td>\n",
       "      <td>3.0</td>\n",
       "      <td>4.0</td>\n",
       "      <td>4.0</td>\n",
       "      <td>2.0</td>\n",
       "      <td>3.0</td>\n",
       "      <td>-0.0</td>\n",
       "      <td>3.0</td>\n",
       "      <td>...</td>\n",
       "      <td>1.0</td>\n",
       "      <td>4.0</td>\n",
       "      <td>3.0</td>\n",
       "      <td>3.0</td>\n",
       "      <td>4.0</td>\n",
       "      <td>3.0</td>\n",
       "      <td>4.0</td>\n",
       "      <td>1.0</td>\n",
       "      <td>4.0</td>\n",
       "      <td>1.0</td>\n",
       "    </tr>\n",
       "    <tr>\n",
       "      <th>1</th>\n",
       "      <td>4.0</td>\n",
       "      <td>2.0</td>\n",
       "      <td>2.0</td>\n",
       "      <td>1.0</td>\n",
       "      <td>5.0</td>\n",
       "      <td>1.0</td>\n",
       "      <td>1.0</td>\n",
       "      <td>5.0</td>\n",
       "      <td>-0.0</td>\n",
       "      <td>2.0</td>\n",
       "      <td>...</td>\n",
       "      <td>0.0</td>\n",
       "      <td>3.0</td>\n",
       "      <td>3.0</td>\n",
       "      <td>3.0</td>\n",
       "      <td>7.0</td>\n",
       "      <td>3.0</td>\n",
       "      <td>6.0</td>\n",
       "      <td>1.0</td>\n",
       "      <td>3.0</td>\n",
       "      <td>5.0</td>\n",
       "    </tr>\n",
       "    <tr>\n",
       "      <th>2</th>\n",
       "      <td>4.0</td>\n",
       "      <td>2.0</td>\n",
       "      <td>2.0</td>\n",
       "      <td>4.0</td>\n",
       "      <td>3.0</td>\n",
       "      <td>4.0</td>\n",
       "      <td>3.0</td>\n",
       "      <td>3.0</td>\n",
       "      <td>-0.0</td>\n",
       "      <td>1.0</td>\n",
       "      <td>...</td>\n",
       "      <td>2.0</td>\n",
       "      <td>4.0</td>\n",
       "      <td>3.0</td>\n",
       "      <td>4.0</td>\n",
       "      <td>8.0</td>\n",
       "      <td>5.0</td>\n",
       "      <td>4.0</td>\n",
       "      <td>1.0</td>\n",
       "      <td>4.0</td>\n",
       "      <td>1.0</td>\n",
       "    </tr>\n",
       "    <tr>\n",
       "      <th>3</th>\n",
       "      <td>3.0</td>\n",
       "      <td>2.0</td>\n",
       "      <td>1.0</td>\n",
       "      <td>4.0</td>\n",
       "      <td>2.0</td>\n",
       "      <td>4.0</td>\n",
       "      <td>4.0</td>\n",
       "      <td>3.0</td>\n",
       "      <td>-0.0</td>\n",
       "      <td>3.0</td>\n",
       "      <td>...</td>\n",
       "      <td>2.0</td>\n",
       "      <td>4.0</td>\n",
       "      <td>2.0</td>\n",
       "      <td>3.0</td>\n",
       "      <td>7.0</td>\n",
       "      <td>4.0</td>\n",
       "      <td>6.0</td>\n",
       "      <td>1.0</td>\n",
       "      <td>5.0</td>\n",
       "      <td>4.0</td>\n",
       "    </tr>\n",
       "    <tr>\n",
       "      <th>4</th>\n",
       "      <td>3.0</td>\n",
       "      <td>2.0</td>\n",
       "      <td>2.0</td>\n",
       "      <td>3.0</td>\n",
       "      <td>4.0</td>\n",
       "      <td>4.0</td>\n",
       "      <td>2.0</td>\n",
       "      <td>4.0</td>\n",
       "      <td>-0.0</td>\n",
       "      <td>3.0</td>\n",
       "      <td>...</td>\n",
       "      <td>2.0</td>\n",
       "      <td>4.0</td>\n",
       "      <td>2.0</td>\n",
       "      <td>3.0</td>\n",
       "      <td>5.0</td>\n",
       "      <td>3.0</td>\n",
       "      <td>5.0</td>\n",
       "      <td>1.0</td>\n",
       "      <td>5.0</td>\n",
       "      <td>4.0</td>\n",
       "    </tr>\n",
       "    <tr>\n",
       "      <th>5</th>\n",
       "      <td>3.0</td>\n",
       "      <td>2.0</td>\n",
       "      <td>2.0</td>\n",
       "      <td>3.0</td>\n",
       "      <td>4.0</td>\n",
       "      <td>2.0</td>\n",
       "      <td>2.0</td>\n",
       "      <td>3.0</td>\n",
       "      <td>0.0</td>\n",
       "      <td>3.0</td>\n",
       "      <td>...</td>\n",
       "      <td>2.0</td>\n",
       "      <td>5.0</td>\n",
       "      <td>3.0</td>\n",
       "      <td>4.0</td>\n",
       "      <td>7.0</td>\n",
       "      <td>5.0</td>\n",
       "      <td>4.0</td>\n",
       "      <td>1.0</td>\n",
       "      <td>4.0</td>\n",
       "      <td>1.0</td>\n",
       "    </tr>\n",
       "    <tr>\n",
       "      <th>6</th>\n",
       "      <td>4.0</td>\n",
       "      <td>2.0</td>\n",
       "      <td>3.0</td>\n",
       "      <td>0.0</td>\n",
       "      <td>5.0</td>\n",
       "      <td>1.0</td>\n",
       "      <td>1.0</td>\n",
       "      <td>5.0</td>\n",
       "      <td>0.0</td>\n",
       "      <td>2.0</td>\n",
       "      <td>...</td>\n",
       "      <td>2.0</td>\n",
       "      <td>4.0</td>\n",
       "      <td>2.0</td>\n",
       "      <td>4.0</td>\n",
       "      <td>7.0</td>\n",
       "      <td>3.0</td>\n",
       "      <td>2.0</td>\n",
       "      <td>1.0</td>\n",
       "      <td>5.0</td>\n",
       "      <td>5.0</td>\n",
       "    </tr>\n",
       "    <tr>\n",
       "      <th>7</th>\n",
       "      <td>3.0</td>\n",
       "      <td>2.0</td>\n",
       "      <td>2.0</td>\n",
       "      <td>1.0</td>\n",
       "      <td>5.0</td>\n",
       "      <td>1.0</td>\n",
       "      <td>1.0</td>\n",
       "      <td>5.0</td>\n",
       "      <td>1.0</td>\n",
       "      <td>2.0</td>\n",
       "      <td>...</td>\n",
       "      <td>1.0</td>\n",
       "      <td>5.0</td>\n",
       "      <td>4.0</td>\n",
       "      <td>4.0</td>\n",
       "      <td>9.0</td>\n",
       "      <td>3.0</td>\n",
       "      <td>4.0</td>\n",
       "      <td>0.0</td>\n",
       "      <td>3.0</td>\n",
       "      <td>5.0</td>\n",
       "    </tr>\n",
       "    <tr>\n",
       "      <th>8</th>\n",
       "      <td>4.0</td>\n",
       "      <td>2.0</td>\n",
       "      <td>3.0</td>\n",
       "      <td>1.0</td>\n",
       "      <td>5.0</td>\n",
       "      <td>2.0</td>\n",
       "      <td>2.0</td>\n",
       "      <td>5.0</td>\n",
       "      <td>0.0</td>\n",
       "      <td>2.0</td>\n",
       "      <td>...</td>\n",
       "      <td>2.0</td>\n",
       "      <td>2.0</td>\n",
       "      <td>1.0</td>\n",
       "      <td>2.0</td>\n",
       "      <td>6.0</td>\n",
       "      <td>3.0</td>\n",
       "      <td>2.0</td>\n",
       "      <td>1.0</td>\n",
       "      <td>4.0</td>\n",
       "      <td>1.0</td>\n",
       "    </tr>\n",
       "    <tr>\n",
       "      <th>9</th>\n",
       "      <td>4.0</td>\n",
       "      <td>2.0</td>\n",
       "      <td>3.0</td>\n",
       "      <td>1.0</td>\n",
       "      <td>4.0</td>\n",
       "      <td>1.0</td>\n",
       "      <td>1.0</td>\n",
       "      <td>5.0</td>\n",
       "      <td>0.0</td>\n",
       "      <td>2.0</td>\n",
       "      <td>...</td>\n",
       "      <td>2.0</td>\n",
       "      <td>4.0</td>\n",
       "      <td>2.0</td>\n",
       "      <td>4.0</td>\n",
       "      <td>9.0</td>\n",
       "      <td>3.0</td>\n",
       "      <td>6.0</td>\n",
       "      <td>1.0</td>\n",
       "      <td>3.0</td>\n",
       "      <td>1.0</td>\n",
       "    </tr>\n",
       "  </tbody>\n",
       "</table>\n",
       "<p>10 rows × 63 columns</p>\n",
       "</div>"
      ],
      "text/plain": [
       "   ALTERSKATEGORIE_GROB  ANREDE_KZ  FINANZ_MINIMALIST  FINANZ_SPARER  \\\n",
       "0                   3.0        2.0                2.0            3.0   \n",
       "1                   4.0        2.0                2.0            1.0   \n",
       "2                   4.0        2.0                2.0            4.0   \n",
       "3                   3.0        2.0                1.0            4.0   \n",
       "4                   3.0        2.0                2.0            3.0   \n",
       "5                   3.0        2.0                2.0            3.0   \n",
       "6                   4.0        2.0                3.0            0.0   \n",
       "7                   3.0        2.0                2.0            1.0   \n",
       "8                   4.0        2.0                3.0            1.0   \n",
       "9                   4.0        2.0                3.0            1.0   \n",
       "\n",
       "   FINANZ_VORSORGER  FINANZ_ANLEGER  FINANZ_UNAUFFAELLIGER  FINANZ_HAUSBAUER  \\\n",
       "0               4.0             4.0                    2.0               3.0   \n",
       "1               5.0             1.0                    1.0               5.0   \n",
       "2               3.0             4.0                    3.0               3.0   \n",
       "3               2.0             4.0                    4.0               3.0   \n",
       "4               4.0             4.0                    2.0               4.0   \n",
       "5               4.0             2.0                    2.0               3.0   \n",
       "6               5.0             1.0                    1.0               5.0   \n",
       "7               5.0             1.0                    1.0               5.0   \n",
       "8               5.0             2.0                    2.0               5.0   \n",
       "9               4.0             1.0                    1.0               5.0   \n",
       "\n",
       "   GREEN_AVANTGARDE  HEALTH_TYP     ...      PLZ8_ANTG4  PLZ8_HHZ  PLZ8_GBZ  \\\n",
       "0              -0.0         3.0     ...             1.0       4.0       3.0   \n",
       "1              -0.0         2.0     ...             0.0       3.0       3.0   \n",
       "2              -0.0         1.0     ...             2.0       4.0       3.0   \n",
       "3              -0.0         3.0     ...             2.0       4.0       2.0   \n",
       "4              -0.0         3.0     ...             2.0       4.0       2.0   \n",
       "5               0.0         3.0     ...             2.0       5.0       3.0   \n",
       "6               0.0         2.0     ...             2.0       4.0       2.0   \n",
       "7               1.0         2.0     ...             1.0       5.0       4.0   \n",
       "8               0.0         2.0     ...             2.0       2.0       1.0   \n",
       "9               0.0         2.0     ...             2.0       4.0       2.0   \n",
       "\n",
       "   ARBEIT  ORTSGR_KLS9  RELAT_AB  decade  movement  wealth  life_stage  \n",
       "0     3.0          4.0       3.0     4.0       1.0     4.0         1.0  \n",
       "1     3.0          7.0       3.0     6.0       1.0     3.0         5.0  \n",
       "2     4.0          8.0       5.0     4.0       1.0     4.0         1.0  \n",
       "3     3.0          7.0       4.0     6.0       1.0     5.0         4.0  \n",
       "4     3.0          5.0       3.0     5.0       1.0     5.0         4.0  \n",
       "5     4.0          7.0       5.0     4.0       1.0     4.0         1.0  \n",
       "6     4.0          7.0       3.0     2.0       1.0     5.0         5.0  \n",
       "7     4.0          9.0       3.0     4.0       0.0     3.0         5.0  \n",
       "8     2.0          6.0       3.0     2.0       1.0     4.0         1.0  \n",
       "9     4.0          9.0       3.0     6.0       1.0     3.0         1.0  \n",
       "\n",
       "[10 rows x 63 columns]"
      ]
     },
     "execution_count": 87,
     "metadata": {},
     "output_type": "execute_result"
    }
   ],
   "source": [
    "data_2 = normalizer.inverse_transform(pca.inverse_transform(dummy_df_pca[np.where(predict_general==4)])).round()\n",
    "df_2 = pd.DataFrame(data=data_2,\n",
    "          index=np.array(range(0, data_2.shape[0])),\n",
    "          columns=dummy_df.columns)\n",
    "df_2.head(10)"
   ]
  },
  {
   "cell_type": "markdown",
   "metadata": {},
   "source": [
    "### Discussion 3.3: Compare Customer Data to Demographics Data\n",
    "\n",
    "It can be inferred from the proportion comparison plot, in some clusters the customers are over-presented in the data. This means that the people who belong to that segment are more likely to become a customer of Arvato. I belive it's good practice for Arvato to focus their advertising on people in general population who belong in that segment but are not a customer yet.\n",
    "\n",
    "On contrary, the people in some other clusters are less likely to be a customer of Arvato. This can be analyzed in two ways: either the services that Arvato is offering is not attractive for those segments, or Arvato has not been able to appeal to the needs of those people. There is also a chance that the advertising was focused on a certain group of people. The decision regarding what to do with these clusters should be made when all these considerations are taken into account."
   ]
  },
  {
   "cell_type": "code",
   "execution_count": null,
   "metadata": {},
   "outputs": [],
   "source": []
  }
 ],
 "metadata": {
  "kernelspec": {
   "display_name": "Python 3",
   "language": "python",
   "name": "python3"
  },
  "language_info": {
   "codemirror_mode": {
    "name": "ipython",
    "version": 3
   },
   "file_extension": ".py",
   "mimetype": "text/x-python",
   "name": "python",
   "nbconvert_exporter": "python",
   "pygments_lexer": "ipython3",
   "version": "3.6.3"
  }
 },
 "nbformat": 4,
 "nbformat_minor": 2
}
